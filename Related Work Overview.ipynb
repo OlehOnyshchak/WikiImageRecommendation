{
 "cells": [
  {
   "cell_type": "markdown",
   "metadata": {},
   "source": [
    "## Image Retrieval with Text query"
   ]
  },
  {
   "cell_type": "markdown",
   "metadata": {},
   "source": [
    "* [How Google (probably) implemented image search](https://www.quora.com/How-does-a-Google-image-search-engine-work/answer/John-Koala)\n",
    " * pattern matching to image metadata\n",
    " * content-based search for new images to identify tags\n",
    " * DL augmentations: add tags of recognised objects to an image, e.g. \"dog\", \"cat\", \"sky\""
   ]
  },
  {
   "cell_type": "markdown",
   "metadata": {},
   "source": [
    "## Literature Overview"
   ]
  },
  {
   "cell_type": "markdown",
   "metadata": {},
   "source": [
    "* [Recent Advance in Content-based Image Retrieval: A Literature Survey](https://arxiv.org/pdf/1706.06064.pdf)\n",
    " * TODO: classic inverted file structure to index large scale visual database for scalable retrieval\n",
    "* [Deep Image Retrieval: Learning global representations for image search](https://arxiv.org/pdf/1604.01325v2.pdf) - discovering concise fixed-lenght global image descriptor for CBIR"
   ]
  },
  {
   "cell_type": "markdown",
   "metadata": {},
   "source": [
    "## Potentially Relevant Papers"
   ]
  },
  {
   "cell_type": "markdown",
   "metadata": {},
   "source": [
    "* [A Case for Query by Image and Text Content: Searching Computer Help using Screenshots and Keywords](http://ramb.ethz.ch/CDstore/www2011/proceedings/p775.pdf) - investigate how to perform CBIR with a supporting text query\n",
    " * might not be very relevant since it seems to do it separately, i.e. first filter everything by keyword, and then filter results by image\n",
    "* [Web Image Re-Ranking Using Query-Specific Semantic Signatures](http://www.ee.cuhk.edu.hk/~xgwang/papers/wangQLTpami13.pdf) - proposes improvements to re-ranking images in a two-stage search: I) query images by keywords II) CBIS with visual feedback from user (i.e. google search -> show similar pictures)\n",
    "* [CBIR using Speech, Text & Image Query for Mobile Device](https://pdfs.semanticscholar.org/d176/435aedc195539765afe3e42da920758bdd34.pdf) - has wide literature overview for image search with text queries"
   ]
  },
  {
   "cell_type": "code",
   "execution_count": null,
   "metadata": {},
   "outputs": [],
   "source": []
  }
 ],
 "metadata": {
  "kernelspec": {
   "display_name": "Python 3",
   "language": "python",
   "name": "python3"
  },
  "language_info": {
   "codemirror_mode": {
    "name": "ipython",
    "version": 3
   },
   "file_extension": ".py",
   "mimetype": "text/x-python",
   "name": "python",
   "nbconvert_exporter": "python",
   "pygments_lexer": "ipython3",
   "version": "3.7.3"
  }
 },
 "nbformat": 4,
 "nbformat_minor": 2
}
