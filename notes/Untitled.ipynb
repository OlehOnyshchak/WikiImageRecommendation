{
 "cells": [
  {
   "cell_type": "markdown",
   "metadata": {},
   "source": [
    "## Kaggle\n",
    "* https://www.kaggle.com/docs/datasets#creating-a-dataset\n",
    "* https://www.kaggle.com/product-feedback/43505#post246047\n",
    "* has faster GPU processing \n",
    "* has limit of 9 hours for a single run, and 30 hours of GPU per week - https://www.kaggle.com/general/108481\n",
    "\n",
    "## Colab\n",
    "* you can use you google drive in colab, which has infinite amount of storage\n",
    "* computation resources might be either cloud, or your local machine\n",
    "* GPU might be suspended for a long computation\n",
    "\n",
    "## In Summary\n",
    "Will use both, when possible, with a priority to Colab, since it has unlimited disk space and ability to execute with local environment."
   ]
  },
  {
   "cell_type": "code",
   "execution_count": null,
   "metadata": {},
   "outputs": [],
   "source": []
  }
 ],
 "metadata": {
  "kernelspec": {
   "display_name": "Python 3",
   "language": "python",
   "name": "python3"
  },
  "language_info": {
   "codemirror_mode": {
    "name": "ipython",
    "version": 3
   },
   "file_extension": ".py",
   "mimetype": "text/x-python",
   "name": "python",
   "nbconvert_exporter": "python",
   "pygments_lexer": "ipython3",
   "version": "3.7.3"
  }
 },
 "nbformat": 4,
 "nbformat_minor": 2
}
