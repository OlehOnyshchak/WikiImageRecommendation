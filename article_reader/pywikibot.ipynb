{
 "cells": [
  {
   "cell_type": "markdown",
   "metadata": {},
   "source": [
    "## Usage of python script"
   ]
  },
  {
   "cell_type": "code",
   "execution_count": 1,
   "metadata": {},
   "outputs": [],
   "source": [
    "import pandas as pd\n",
    "\n",
    "filename = 'featured_articles_list.csv'\n",
    "df = pd.read_csv('featured_Articles.tsv', sep='\\t')\n",
    "df.to_csv(filename, columns=[\"page_title\"], index=False, header=False)"
   ]
  },
  {
   "cell_type": "code",
   "execution_count": 2,
   "metadata": {},
   "outputs": [],
   "source": [
    "import reader"
   ]
  },
  {
   "cell_type": "code",
   "execution_count": 3,
   "metadata": {},
   "outputs": [
    {
     "name": "stdout",
     "output_type": "stream",
     "text": [
      "Wall time: 381 ms\n"
     ]
    },
    {
     "data": {
      "text/plain": [
       "5638"
      ]
     },
     "execution_count": 3,
     "metadata": {},
     "output_type": "execute_result"
    }
   ],
   "source": [
    "%%time\n",
    "reader.query_size(filename)"
   ]
  },
  {
   "cell_type": "code",
   "execution_count": 4,
   "metadata": {
    "scrolled": false
   },
   "outputs": [
    {
     "name": "stdout",
     "output_type": "stream",
     "text": [
      "Cleaning old data\n",
      "Downloading...\n",
      "Downloading ..\\data\\img\\19607049\\Wordsworth_on_Helvellyn_by_Benjamin_Robert_Haydon.jpg | The Lucy poems\n",
      "Downloading ..\\data\\img\\19607049\\Cscr-featured.svg | The Lucy poems\n",
      "Downloading ..\\data\\img\\236263\\A_Day_with_Keats,_Neatby_plate_-_Autumn.png | To Autumn\n",
      "Downloading ..\\data\\img\\236263\\John_Keats_-_To_Autumn_Manuscript_1_unrestored.jpg | To Autumn\n",
      "Downloading ..\\data\\img\\236263\\John_Keats_-_To_Autumn_Manuscript_2_unrestored.jpg | To Autumn\n",
      "Downloading ..\\data\\img\\236263\\John_Keats_by_William_Hilton.jpg | To Autumn\n",
      "Downloading ..\\data\\img\\236263\\Keats19.jpg | To Autumn\n",
      "Downloading ..\\data\\img\\236263\\Sparsholt_Road_-_geograph.org.uk_-_81201.jpg | To Autumn\n",
      "Downloading ..\\data\\img\\236263\\Wikisource-logo.svg | To Autumn\n",
      "Downloading ..\\data\\img\\236263\\Cscr-featured.svg | To Autumn\n",
      "Downloading ..\\data\\img\\32298\\Arrow_Blue_Left_001.svg | USS Constitution\n",
      "Downloading ..\\data\\img\\32298\\Arrow_Blue_Right_001.svg | USS Constitution\n",
      "Downloading ..\\data\\img\\32298\\Bombardment_of_Tripoli,_3_August_1804.tif | USS Constitution\n",
      "Downloading ..\\data\\img\\32298\\Burning_of_the_uss_philadelphia.jpg | USS Constitution\n",
      "Downloading ..\\data\\img\\32298\\Chase_of_the_Constitution,_July_1812.jpg | USS Constitution\n",
      "Downloading ..\\data\\img\\32298\\Constitution-Java_battle_plan.png | USS Constitution\n",
      "Downloading ..\\data\\img\\32298\\Constitution1803.jpg | USS Constitution\n",
      "Downloading ..\\data\\img\\32298\\Constitution1874b.png | USS Constitution\n",
      "Downloading ..\\data\\img\\32298\\Constitutionasbarracksship.jpg | USS Constitution\n",
      "Downloading ..\\data\\img\\32298\\Constitutionpanamacanal1932.png | USS Constitution\n",
      "Downloading ..\\data\\img\\32298\\Flickr_-_Official_U.S._Navy_Imagery_-_USS_Constitution_sails_into_Boston_Harbor.jpg | USS Constitution\n",
      "Downloading ..\\data\\img\\32298\\General_Jackson_-_Harpers_Weekly,_news_media_image_(1875c).jpg | USS Constitution\n",
      "Downloading ..\\data\\img\\32298\\ICS_Alpha.svg | USS Constitution\n",
      "Downloading ..\\data\\img\\32298\\ICS_Juliet.svg | USS Constitution\n",
      "Downloading ..\\data\\img\\32298\\ICS_November.svg | USS Constitution\n",
      "Downloading ..\\data\\img\\32298\\ICS_Papa.svg | USS Constitution\n",
      "Downloading ..\\data\\img\\32298\\Inside_the_USS_Constitution.jpg | USS Constitution\n",
      "Downloading ..\\data\\img\\32298\\Map_of_Boston_and_Cambridge.png | USS Constitution\n",
      "Downloading ..\\data\\img\\32298\\People_icon.svg | USS Constitution\n",
      "Downloading ..\\data\\img\\32298\\Red_pog.svg | USS Constitution\n",
      "Downloading ..\\data\\img\\32298\\USA_Massachusetts_location_map.svg | USS Constitution\n",
      "Downloading ..\\data\\img\\32298\\USS_Constitution_150_Anniversary_Issue_of_1947-3c.jpg | USS Constitution\n",
      "Downloading ..\\data\\img\\32298\\USS_Constitution_Sail200d.jpg | USS Constitution\n",
      "Downloading ..\\data\\img\\32298\\USS_Constitution_crest.png | USS Constitution\n",
      "Downloading ..\\data\\img\\32298\\USS_Constitution_fires_a_17-gun_salute.jpg | USS Constitution\n",
      "Downloading ..\\data\\img\\32298\\USS_Constitution_in_dock.jpg | USS Constitution\n",
      "Downloading ..\\data\\img\\32298\\USS_Constitution_in_drydock_in_Boston,_2016.JPG | USS Constitution\n",
      "Downloading ..\\data\\img\\32298\\USS_Constitution_ready_for_launch.jpg | USS Constitution\n",
      "Downloading ..\\data\\img\\32298\\USS_Constitution_underway,_August_19,_2012_by_Castle_Island_cropped.jpg | USS Constitution\n",
      "Downloading ..\\data\\img\\32298\\USS_Constitution_v_HMS_Guerriere.jpg | USS Constitution\n",
      "Downloading ..\\data\\img\\32298\\US_Navy_050730-N-0335C-002_U.S._Navy_Cmdr._Thomas_C._Graves_and_Executive_Officer_Lt._Brad_Coletti_look_on_during_USS_Constitution_change_of_command_ceremony.jpg | USS Constitution\n",
      "Downloading ..\\data\\img\\32298\\US_Navy_110704-N-AU127-185_USS_Constitution_fires_a_21-gun_salute_toward_Fort_Independence_on_Castle_Island.jpg | USS Constitution\n",
      "Downloading ..\\data\\img\\32298\\Usa_edcp_location_map.svg | USS Constitution\n",
      "Downloading ..\\data\\img\\32298\\WalterCronkiteathelm.jpg | USS Constitution\n",
      "Downloading ..\\data\\img\\32298\\Wikisource-logo.svg | USS Constitution\n",
      "Downloading ..\\data\\img\\32298\\Commons-logo.svg | USS Constitution\n",
      "Downloading ..\\data\\img\\32298\\Cscr-featured.svg | USS Constitution\n",
      "Downloading ..\\data\\img\\32298\\Flag_of_the_United_States.svg | USS Constitution\n",
      "Downloading ..\\data\\img\\32298\\OOjs_UI_icon_edit-ltr-progressive.svg | USS Constitution\n",
      "Downloading ..\\data\\img\\26532\\Carreg_Cennen_Castle_-_geograph.org.uk_-_215123.jpg | Rhys ap Gruffydd\n",
      "Downloading ..\\data\\img\\26532\\Coat_of_arms_of_Deheubarth.svg | Rhys ap Gruffydd\n",
      "Downloading ..\\data\\img\\26532\\CymruMap1093.PNG | Rhys ap Gruffydd\n",
      "Downloading ..\\data\\img\\26532\\DSCN4297-strata-florida-arch.JPG | Rhys ap Gruffydd\n",
      "Downloading ..\\data\\img\\26532\\Deheubarth1.PNG | Rhys ap Gruffydd\n",
      "Downloading ..\\data\\img\\26532\\Deheubarth1190.PNG | Rhys ap Gruffydd\n",
      "Downloading ..\\data\\img\\26532\\Dinefwr_Castle.jpg | Rhys ap Gruffydd\n",
      "Downloading ..\\data\\img\\26532\\Llansteffan.jpg | Rhys ap Gruffydd\n",
      "Downloading ..\\data\\img\\26532\\RhysapG.png | Rhys ap Gruffydd\n",
      "Downloading ..\\data\\img\\26532\\Rice_ap_Gryffydd,_Prince_of_Wales.jpg | Rhys ap Gruffydd\n",
      "Downloading ..\\data\\img\\26532\\StDavidsCathedral.jpg | Rhys ap Gruffydd\n",
      "Downloading ..\\data\\img\\26532\\Cscr-featured.svg | Rhys ap Gruffydd\n",
      "Downloading ..\\data\\img\\26532\\OOjs_UI_icon_edit-ltr-progressive.svg | Rhys ap Gruffydd\n",
      "Downloading ..\\data\\img\\26532\\Talley_Abbey_1.jpg | Rhys ap Gruffydd\n",
      "Downloading ..\\data\\img\\23535\\Bohr-atom-PAR.svg | Photon\n",
      "Downloading ..\\data\\img\\23535\\Bohr_atom_model.svg | Photon\n",
      "Downloading ..\\data\\img\\23535\\Gamma-ray-microscope.svg | Photon\n",
      "Downloading ..\\data\\img\\23535\\LASER.jpg | Photon\n",
      "Downloading ..\\data\\img\\23535\\Light-wave.svg | Photon\n",
      "Downloading ..\\data\\img\\23535\\Light_cone_colour.svg | Photon\n",
      "Downloading ..\\data\\img\\23535\\Mach-Zehnder_photons_animation.gif | Photon\n",
      "Downloading ..\\data\\img\\23535\\Stimulatedemission.png | Photon\n",
      "Downloading ..\\data\\img\\23535\\Stylised_Lithium_Atom.svg | Photon\n",
      "Downloading ..\\data\\img\\23535\\Stylised_atom_with_three_Bohr_model_orbits_and_stylised_nucleus.svg | Photon\n",
      "Downloading ..\\data\\img\\23535\\Vertex_correction.svg | Photon\n",
      "Downloading ..\\data\\img\\23535\\VisibleEmrWavelengths.svg | Photon\n",
      "Downloading ..\\data\\img\\23535\\Wikiquote-logo.svg | Photon\n",
      "Downloading ..\\data\\img\\23535\\Wiktionary-logo-en-v2.svg | Photon\n",
      "Downloading ..\\data\\img\\23535\\Young_Diffraction.png | Photon\n",
      "Downloading ..\\data\\img\\23535\\Commons-logo.svg | Photon\n",
      "Downloading ..\\data\\img\\23535\\Cscr-featured.svg | Photon\n",
      "Downloading ..\\data\\img\\23535\\OOjs_UI_icon_edit-ltr-progressive.svg | Photon\n",
      "Downloading ..\\data\\img\\23535\\Portal-puzzle.svg | Photon\n",
      "Downloading ..\\data\\img\\21277280\\Correggio_-_The_Holy_Night_-_Google_Art_Project.jpg | Rambles in Germany and Italy\n",
      "Downloading ..\\data\\img\\21277280\\Fletschhorn.jpg | Rambles in Germany and Italy\n",
      "Downloading ..\\data\\img\\21277280\\Francesco_Hayez_040.jpg | Rambles in Germany and Italy\n",
      "Downloading ..\\data\\img\\21277280\\Giuseppe_Mazzini.png | Rambles in Germany and Italy\n",
      "Downloading ..\\data\\img\\21277280\\LadyMorgan.jpg | Rambles in Germany and Italy\n",
      "Downloading ..\\data\\img\\21277280\\Mary_Wollstonecraft_Shelley_Rothwell.tif | Rambles in Germany and Italy\n",
      "Downloading ..\\data\\img\\21277280\\ShelleyRambles.jpg | Rambles in Germany and Italy\n",
      "Downloading ..\\data\\img\\21277280\\Shelley_rambles_map.svg | Rambles in Germany and Italy\n",
      "Downloading ..\\data\\img\\21277280\\§Shelley_-_Tomba_al_Cimitero_acattolico_di_Roma-_Foto_di_Massimo_Consoli,_1996_2.jpg | Rambles in Germany and Italy\n",
      "Downloading ..\\data\\img\\21277280\\Cscr-featured.svg | Rambles in Germany and Italy\n",
      "Downloading ..\\data\\img\\21277280\\Mary_Wollstonecraft_by_John_Opie_(c._1797).jpg | Rambles in Germany and Italy\n",
      "Wall time: 1min 6s\n"
     ]
    }
   ],
   "source": [
    "%%time\n",
    "peano_path = reader.query(filename=filename, debug_info=True, force_rewrite=True, limit=10)"
   ]
  },
  {
   "cell_type": "code",
   "execution_count": null,
   "metadata": {},
   "outputs": [],
   "source": []
  }
 ],
 "metadata": {
  "kernelspec": {
   "display_name": "Python 3",
   "language": "python",
   "name": "python3"
  },
  "language_info": {
   "codemirror_mode": {
    "name": "ipython",
    "version": 3
   },
   "file_extension": ".py",
   "mimetype": "text/x-python",
   "name": "python",
   "nbconvert_exporter": "python",
   "pygments_lexer": "ipython3",
   "version": "3.6.5"
  }
 },
 "nbformat": 4,
 "nbformat_minor": 2
}
