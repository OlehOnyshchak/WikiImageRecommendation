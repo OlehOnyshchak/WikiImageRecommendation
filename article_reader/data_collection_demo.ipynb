{
 "cells": [
  {
   "cell_type": "markdown",
   "metadata": {},
   "source": [
    "## Usage of python script"
   ]
  },
  {
   "cell_type": "code",
   "execution_count": 8,
   "metadata": {},
   "outputs": [],
   "source": [
    "import reader\n",
    "import pandas as pd\n",
    "\n",
    "filename = 'featured_articles_list.tsv'\n",
    "df = pd.read_csv('featured_Articles.tsv', sep='\\t')\n",
    "df.to_csv(filename, sep='\\t', columns=[\"page_title\"], index=False, header=False)"
   ]
  },
  {
   "cell_type": "code",
   "execution_count": null,
   "metadata": {
    "scrolled": false
   },
   "outputs": [],
   "source": [
    "%%time\n",
    "reader.query(filename=filename, params=reader.QueryParams(out_dir='../data/', debug_info=True, offset=0, limit=1000))"
   ]
  },
  {
   "cell_type": "code",
   "execution_count": 25,
   "metadata": {
    "scrolled": false
   },
   "outputs": [
    {
     "name": "stdout",
     "output_type": "stream",
     "text": [
      "[ { 'description': 'Clipped version of Engraving of a painting of the English '\n",
      "                   'actor Colley Cibber as Lord Foppington in the Restoration '\n",
      "                   'comedy The Relapse (1696) by John Vanbrugh',\n",
      "    'filename': 'b647ad40095d319b81f188def08e9ac0.jpg',\n",
      "    'title': 'Colley Cibber as Lord Foppington clipped.jpg',\n",
      "    'url': 'https://en.wikipedia.org/wiki/File%3AColley_Cibber_as_Lord_Foppington_clipped.jpg'},\n",
      "  { 'description': 'Engraving of a painting of the English actor Colley Cibber '\n",
      "                   'as Lord Foppington in the Restoration comedy The Relapse '\n",
      "                   '(1696) by John Vanbrugh',\n",
      "    'filename': 'bc3c539a55da7f84369eb25234c53b7e.jpg',\n",
      "    'title': 'Colley Cibber as Lord Foppington in The Relapse by John Vanbrugh '\n",
      "             'engraving.jpg',\n",
      "    'url': 'https://en.wikipedia.org/wiki/File%3AColley_Cibber_as_Lord_Foppington_in_The_Relapse_by_John_Vanbrugh_engraving.jpg'},\n",
      "  { 'description': '',\n",
      "    'filename': '5700112581fc9f0d09c74d6be58b50f2.jpg',\n",
      "    'title': 'John Vanbrugh.jpg',\n",
      "    'url': 'https://en.wikipedia.org/wiki/File%3AJohn_Vanbrugh.jpg'},\n",
      "  { 'description': '',\n",
      "    'filename': '5b83ef91f8b1037afd39fab86a12b535.jpg',\n",
      "    'title': \"Love'sLastShift characters.png\",\n",
      "    'url': 'https://en.wikipedia.org/wiki/File%3ALove%27sLastShift_characters.png'},\n",
      "  { 'description': '',\n",
      "    'filename': 'c5b78b9fd640ad77a92756ba62a7edf6.jpg',\n",
      "    'title': 'Relapse characters.png',\n",
      "    'url': 'https://en.wikipedia.org/wiki/File%3ARelapse_characters.png'},\n",
      "  { 'description': \"Scene from John Vanbrugh's The Relapse (1696) - Midnight \"\n",
      "                   'alarm, with Fashion, Lory and Sir Tunbelly (3.3)',\n",
      "    'filename': '782a11edfa0639ad6912a2ee369e5d6d.jpg',\n",
      "    'title': 'William Powell Frith The Relapse Midnight Alarm 3-3.jpg',\n",
      "    'url': 'https://en.wikipedia.org/wiki/File%3AWilliam_Powell_Frith_The_Relapse_Midnight_Alarm_3-3.jpg'}]\n"
     ]
    }
   ],
   "source": [
    "import json\n",
    "import pprint\n",
    "\n",
    "text_path = \"./test/The_Relapse/img/meta.json\"\n",
    "pp = pprint.PrettyPrinter(indent=2)\n",
    "data = None\n",
    "with open(text_path) as json_file:\n",
    "    data = json.loads(json.load(json_file))['img_meta']\n",
    "\n",
    "print_data = data\n",
    "for i in range(len(print_data)):\n",
    "    print_data[i] = {k:v for k,v in print_data[i].items() if k != \"features\"}\n",
    "pp.pprint(print_data)"
   ]
  }
 ],
 "metadata": {
  "kernelspec": {
   "display_name": "Python 3",
   "language": "python",
   "name": "python3"
  },
  "language_info": {
   "codemirror_mode": {
    "name": "ipython",
    "version": 3
   },
   "file_extension": ".py",
   "mimetype": "text/x-python",
   "name": "python",
   "nbconvert_exporter": "python",
   "pygments_lexer": "ipython3",
   "version": "3.7.4"
  }
 },
 "nbformat": 4,
 "nbformat_minor": 2
}
