{
 "cells": [
  {
   "cell_type": "markdown",
   "metadata": {},
   "source": [
    "## Usage of python script"
   ]
  },
  {
   "cell_type": "code",
   "execution_count": 3,
   "metadata": {},
   "outputs": [],
   "source": [
    "import reader\n",
    "import pandas as pd\n",
    "\n",
    "filename = 'featured_articles_list.tsv'\n",
    "df = pd.read_csv('featured_Articles.tsv', sep='\\t')\n",
    "df.to_csv(filename, sep='\\t', columns=[\"page_title\"], index=False, header=False)"
   ]
  },
  {
   "cell_type": "code",
   "execution_count": 4,
   "metadata": {
    "scrolled": true
   },
   "outputs": [
    {
     "name": "stdout",
     "output_type": "stream",
     "text": [
      "Downloading... offset=0, limit=1000\n",
      "0% completed\n",
      "../data/The_Relapse\n",
      "../data/Pendle_witches\n",
      "../data/Kylfings\n",
      "../data/Rampart_Dam\n",
      "../data/The_Lucy_poems\n",
      "../data/To_Autumn\n",
      "../data/USS_Constitution\n",
      "../data/Rhys_ap_Gruffydd\n",
      "../data/Photon\n",
      "../data/Rambles_in_Germany_and_Italy\n",
      "../data/Battle_of_Winterthur\n",
      "../data/Nature_fakers_controversy\n",
      "../data/Leopold_Report\n",
      "../data/Mary_Shelley\n"
     ]
    },
    {
     "name": "stderr",
     "output_type": "stream",
     "text": [
      "WARNING: File 'File:Wikinews-logo.svg' contains missing revisions\n"
     ]
    },
    {
     "name": "stdout",
     "output_type": "stream",
     "text": [
      "../data/Distributed-element_filter\n",
      "../data/Royal_Gold_Cup\n",
      "../data/Triaenops_menamena\n",
      "../data/Noronha_skink\n",
      "../data/Transandinomys\n",
      "../data/Pipistrellus_raceyi\n",
      "../data/Battle_of_Barnet\n",
      "../data/Seorsumuscardinus\n",
      "../data/Ambondro_mahabo\n",
      "../data/Miniopterus_griveaudi\n",
      "../data/Lavanify\n",
      "../data/Miniopterus_aelleni\n",
      "../data/Durrell's_vontsira\n",
      "../data/Pennatomys\n",
      "../data/Z._Marcas\n",
      "../data/Petter's_big-footed_mouse\n",
      "../data/Escalera's_bat\n",
      "../data/Aggie_Bonfire\n",
      "../data/Emperor_Norton\n",
      "../data/Sideshow_Bob\n",
      "../data/Oklahoma_City_bombing\n",
      "../data/1949_Ambato_earthquake\n",
      "../data/Banksia_menziesii\n",
      "../data/John_Calvin\n",
      "../data/Banksia_brownii\n",
      "../data/Harris's_List_of_Covent_Garden_Ladies\n",
      "../data/Pearl_Jam\n",
      "../data/Slayer\n",
      "../data/Holden\n",
      "../data/Bride_of_Frankenstein\n",
      "../data/Joe_Sakic\n",
      "../data/Battle_of_Red_Cliffs\n",
      "../data/J._K._Rowling\n",
      "../data/Ruffed_lemur\n",
      "../data/San_Francisco\n"
     ]
    },
    {
     "name": "stderr",
     "output_type": "stream",
     "text": [
      "WARNING: File 'File:Wikinews-logo.svg' contains missing revisions\n"
     ]
    },
    {
     "name": "stdout",
     "output_type": "stream",
     "text": [
      "../data/Degrassi__The_Next_Generation\n",
      "../data/Dmitri_Shostakovich\n",
      "../data/What_You_Waiting_For_\n",
      "../data/SMS_Friedrich_der_Grosse_(1911)\n",
      "../data/Hippopotamus\n",
      "../data/Mary_Rose\n",
      "../data/One_Hot_Minute\n",
      "../data/Mother's_Milk\n",
      "1% completed\n",
      "../data/Egyptian_temple\n",
      "../data/Manchester_Mummy\n",
      "../data/1994_San_Marino_Grand_Prix\n",
      "../data/London_Necropolis_Company\n",
      "../data/George_I_of_Great_Britain\n",
      "../data/Theoren_Fleury\n",
      "../data/Roman–Persian_Wars\n",
      "../data/James_E._Boyd_(scientist)\n",
      "../data/Night_of_the_Long_Knives\n",
      "../data/Darjeeling\n"
     ]
    },
    {
     "name": "stderr",
     "output_type": "stream",
     "text": [
      "WARNING: File 'File:Wikinews-logo.svg' contains missing revisions\n"
     ]
    },
    {
     "name": "stdout",
     "output_type": "stream",
     "text": [
      "../data/British_Empire\n",
      "../data/Katyn_massacre\n",
      "../data/Queen_Elizabeth_The_Queen_Mother\n",
      "../data/Alexandra_of_Denmark\n",
      "../data/Under_the_Bridge\n",
      "../data/Bob_Dylan\n",
      "../data/New_Jersey_Devils\n",
      "../data/In_Utero_(album)\n",
      "../data/Peter_Heywood\n",
      "../data/Kingdom_Hearts_II\n",
      "../data/My_Belarusy\n",
      "../data/Nauru\n"
     ]
    },
    {
     "name": "stderr",
     "output_type": "stream",
     "text": [
      "WARNING: File 'File:Wikinews-logo.svg' contains missing revisions\n"
     ]
    },
    {
     "name": "stdout",
     "output_type": "stream",
     "text": [
      "../data/Intelligent_design\n",
      "../data/Netley_Abbey\n",
      "../data/Mysore\n",
      "../data/Norton_Priory\n",
      "../data/The_Joy_of_Sect\n",
      "../data/Her_Majesty's_Theatre\n",
      "../data/Western_Ganga_dynasty\n",
      "../data/Theatre_Royal,_Drury_Lane\n",
      "../data/Ealdred_(archbishop_of_York)\n",
      "../data/William_de_Longchamp\n",
      "../data/Ælfheah_of_Canterbury\n",
      "../data/Wood_Badge\n",
      "../data/Gilbert_Foliot\n",
      "../data/Gilwell_Park\n",
      "../data/Justus\n",
      "../data/Laurence_of_Canterbury\n",
      "../data/Mellitus\n",
      "../data/Hoysala_literature\n",
      "../data/Western_Chalukya_literature_in_Kannada\n",
      "../data/Battle_of_Ceresole\n",
      "../data/Richard_Barre\n",
      "../data/Western_Chalukya_architecture\n",
      "../data/William_Warelwast\n",
      "../data/Vijayanagara_literature_in_Kannada\n",
      "../data/Thomas_of_Bayeux\n",
      "../data/Brownsea_Island_Scout_camp\n",
      "../data/Hygeberht\n",
      "../data/Alexander_of_Lincoln\n",
      "../data/Asser\n",
      "../data/Stigand\n",
      "../data/Hubert_Walter\n",
      "../data/Crusaders_(rugby_union)\n"
     ]
    },
    {
     "name": "stderr",
     "output_type": "stream",
     "text": [
      "WARNING: File 'File:Flag of Tonga.svg' contains missing revisions\n"
     ]
    },
    {
     "name": "stdout",
     "output_type": "stream",
     "text": [
      "../data/Robert_Burnell\n",
      "../data/William_de_Corbeil\n",
      "2% completed\n",
      "../data/Paulinus_of_York\n",
      "../data/Cosmo_Gordon_Lang\n",
      "../data/Deusdedit_of_Canterbury\n",
      "../data/ARA_Rivadavia\n",
      "../data/Boydell_Shakespeare_Gallery\n",
      "../data/Vithoba\n",
      "../data/Saxbe_fix\n",
      "../data/Aikido\n",
      "../data/Atom\n",
      "../data/Wii\n",
      "../data/Alfred_Russel_Wallace\n",
      "../data/Rock_Steady_(album)\n",
      "../data/Tragic_Kingdom\n",
      "../data/Ælle_of_Sussex\n",
      "../data/Anton_Chekhov\n",
      "../data/Brabham_BT19\n",
      "../data/A_Vindication_of_the_Rights_of_Woman\n",
      "../data/Belarus\n"
     ]
    },
    {
     "name": "stderr",
     "output_type": "stream",
     "text": [
      "WARNING: File 'File:Wikinews-logo.svg' contains missing revisions\n"
     ]
    },
    {
     "name": "stdout",
     "output_type": "stream",
     "text": [
      "../data/Speechless_(Michael_Jackson_song)\n",
      "../data/Battle_of_Blenheim\n",
      "../data/Battle_of_Ramillies\n",
      "../data/Battleship\n"
     ]
    },
    {
     "name": "stderr",
     "output_type": "stream",
     "text": [
      "WARNING: File 'File:Wikinews-logo.svg' contains missing revisions\n"
     ]
    },
    {
     "name": "stdout",
     "output_type": "stream",
     "text": [
      "../data/Barnard's_Star\n",
      "../data/Say_Say_Say\n",
      "../data/Blackbeard\n",
      "../data/Chess\n"
     ]
    },
    {
     "name": "stderr",
     "output_type": "stream",
     "text": [
      "WARNING: File 'File:Wikinews-logo.svg' contains missing revisions\n"
     ]
    },
    {
     "name": "stdout",
     "output_type": "stream",
     "text": [
      "../data/Adore_(The_Smashing_Pumpkins_album)\n",
      "../data/Columbia_River\n",
      "../data/Caesium\n",
      "../data/Candide\n",
      "../data/Cottingley_Fairies\n",
      "../data/Ceawlin_of_Wessex\n",
      "../data/Du_Fu\n",
      "../data/Melodifestivalen\n",
      "../data/Battle_of_the_Coral_Sea\n",
      "../data/Eurasian_treecreeper\n",
      "../data/Order_of_St_Patrick\n"
     ]
    },
    {
     "name": "stderr",
     "output_type": "stream",
     "text": [
      "WARNING: File 'File:Distinguished Service Cross (UK) ribbon.png' contains missing revisions\n"
     ]
    },
    {
     "name": "stdout",
     "output_type": "stream",
     "text": [
      "../data/Guinea_pig\n",
      "../data/Goldcrest\n",
      "../data/Evelyn_Waugh\n",
      "../data/Constantine_II_of_Scotland\n",
      "../data/The_Long_and_Winding_Road\n",
      "../data/Cricket_World_Cup\n",
      "../data/Peter_Jennings\n"
     ]
    },
    {
     "name": "stderr",
     "output_type": "stream",
     "text": [
      "WARNING: File 'File:Wikinews-logo.svg' contains missing revisions\n"
     ]
    },
    {
     "name": "stdout",
     "output_type": "stream",
     "text": [
      "../data/Homer_Simpson\n",
      "../data/Herne_Bay\n",
      "../data/Carousel_(musical)\n",
      "../data/Capture_of_Fort_Ticonderoga\n",
      "../data/Chrono_Cross\n",
      "../data/Dungeons_&_Dragons\n",
      "../data/Simeon_I_of_Bulgaria\n",
      "../data/Gustav_Mahler\n",
      "../data/Music_of_the_Lesser_Antilles\n",
      "../data/Vauxhall_Bridge\n",
      "../data/Japanese_aircraft_carrier_Kaga\n",
      "../data/Peterloo_Massacre\n",
      "../data/Diamond\n",
      "3% completed\n",
      "../data/Caroline_Island\n",
      "../data/Ulysses_(poem)\n",
      "../data/Geology_of_the_Lassen_volcanic_area\n",
      "../data/Flag_of_Singapore\n",
      "../data/Józef_Piłsudski\n",
      "../data/John_Millington_Synge\n",
      "../data/Ruff\n",
      "../data/Stanley_Cup\n",
      "../data/Fourth_International\n",
      "../data/The_Hardy_Boys\n",
      "../data/Battersea_Bridge\n",
      "../data/Dartmouth_College\n",
      "../data/Domitian\n",
      "../data/Grand_Coulee_Dam\n",
      "../data/Bobby_Robson\n",
      "../data/Order_of_the_Thistle\n"
     ]
    },
    {
     "name": "stderr",
     "output_type": "stream",
     "text": [
      "WARNING: File 'File:Distinguished Service Cross (UK) ribbon.png' contains missing revisions\n"
     ]
    },
    {
     "name": "stdout",
     "output_type": "stream",
     "text": [
      "../data/Eurasian_crag_martin\n"
     ]
    },
    {
     "name": "stderr",
     "output_type": "stream",
     "text": [
      "Sleeping for 5.0 seconds, 2019-11-23 14:44:46\n"
     ]
    },
    {
     "name": "stdout",
     "output_type": "stream",
     "text": [
      "../data/The_Sun_Also_Rises\n",
      "../data/The_Final_Cut_(album)\n",
      "../data/André_Kertész\n",
      "../data/Uncle_Tom's_Cabin\n",
      "../data/Don_Valley_Parkway\n",
      "../data/Surface_weather_analysis\n",
      "../data/Order_of_the_Garter\n"
     ]
    },
    {
     "name": "stderr",
     "output_type": "stream",
     "text": [
      "WARNING: File 'File:Distinguished Service Cross (UK) ribbon.png' contains missing revisions\n"
     ]
    },
    {
     "name": "stdout",
     "output_type": "stream",
     "text": [
      "../data/Sale,_Greater_Manchester\n",
      "../data/Enzyme\n",
      "../data/Last_of_the_Summer_Wine\n",
      "../data/To_Kill_a_Mockingbird\n",
      "../data/City_and_South_London_Railway\n",
      "../data/Ernest_Hemingway\n",
      "../data/Gorgosaurus\n",
      "../data/Bupropion\n",
      "../data/Stretford\n",
      "../data/Palazzo_Pitti\n",
      "../data/Maximian\n",
      "../data/Hilary_Putnam\n",
      "../data/Grand_Duchess_Anastasia_Nikolaevna_of_Russia\n",
      "../data/Edgar_Allan_Poe\n"
     ]
    },
    {
     "name": "stderr",
     "output_type": "stream",
     "text": [
      "WARNING: File 'File:Wikinews-logo.svg' contains missing revisions\n"
     ]
    },
    {
     "name": "stdout",
     "output_type": "stream",
     "text": [
      "../data/Rinaldo_(opera)\n",
      "../data/The_Freewheelin'_Bob_Dylan\n",
      "../data/School_Rumble\n",
      "../data/European_Parliament\n",
      "../data/Uru__Ages_Beyond_Myst\n",
      "../data/Lat\n",
      "../data/Pulaski_Skyway\n",
      "../data/Æthelberht_of_Kent\n",
      "../data/Damon_Hill\n",
      "../data/HMS_Lion_(1910)\n",
      "../data/George_F._Kennan\n",
      "../data/Priestley_Riots\n",
      "../data/SMS_Seydlitz\n",
      "../data/Quneitra\n",
      "../data/Wilco\n",
      "../data/Edward_Elgar\n",
      "../data/The_Raven\n",
      "../data/Porbeagle\n",
      "4% completed\n",
      "../data/Learned_Hand\n",
      "../data/2004_World_Series\n",
      "../data/David_Lewis_(politician)\n",
      "../data/Nick_Drake\n",
      "../data/Isaac_Shelby\n",
      "../data/The_Lord_of_the_Rings_(1978_film)\n",
      "../data/HMS_Indefatigable_(1909)\n",
      "../data/Ursula_Franklin\n",
      "../data/Night_(book)\n",
      "../data/Georgette_Heyer\n",
      "../data/Battle_of_Cape_Esperance\n",
      "../data/Final_Fantasy_X-2\n",
      "../data/Kingdom_Hearts__Chain_of_Memories\n",
      "../data/Grim_Fandango\n",
      "../data/Shen_Kuo\n",
      "../data/Francium\n",
      "../data/The_Wire\n",
      "../data/Chew_Valley_Lake\n",
      "../data/Ambrose_Rookwood\n",
      "../data/Acrocanthosaurus\n",
      "../data/Battle_of_Ticonderoga_(1759)\n",
      "../data/Proxima_Centauri\n",
      "../data/Epaminondas\n",
      "../data/Mario_Power_Tennis\n",
      "../data/FIFA_World_Cup\n"
     ]
    },
    {
     "name": "stderr",
     "output_type": "stream",
     "text": [
      "WARNING: File 'File:Wikinews-logo.svg' contains missing revisions\n"
     ]
    },
    {
     "name": "stdout",
     "output_type": "stream",
     "text": [
      "../data/Yagan\n",
      "../data/Rogers_Locomotive_and_Machine_Works\n",
      "../data/Finnish_Civil_War\n",
      "../data/Elias_Ashmole\n",
      "../data/Operation_Ten-Go\n",
      "../data/Boshin_War\n",
      "../data/Fridtjof_Nansen\n",
      "../data/Toraja\n",
      "../data/Tanque_Argentino_Mediano\n",
      "../data/Cygnus_X-1\n",
      "../data/Chew_Stoke\n",
      "../data/Terry_Fox\n",
      "../data/Witold_Lutosławski\n",
      "../data/Westgate-on-Sea\n",
      "../data/1995_Pacific_Grand_Prix\n",
      "../data/1995_Japanese_Grand_Prix\n",
      "../data/Bill_Russell\n",
      "../data/USS_Missouri_(BB-63)\n",
      "../data/Joseph_Barbera\n",
      "../data/Edward_Drinker_Cope\n",
      "../data/Not_One_Less\n",
      "../data/Battle_of_Valcour_Island\n",
      "../data/Master_Chief_(Halo)\n",
      "../data/Jack_L._Warner\n",
      "../data/Preity_Zinta\n",
      "../data/Nottingham_Panthers\n",
      "../data/Albert_Bridge,_London\n",
      "../data/Bengali_language_movement\n"
     ]
    },
    {
     "name": "stderr",
     "output_type": "stream",
     "text": [
      "WARNING: File 'File:Wikinews-logo.svg' contains missing revisions\n"
     ]
    },
    {
     "name": "stdout",
     "output_type": "stream",
     "text": [
      "../data/Flag_of_Armenia\n"
     ]
    },
    {
     "name": "stderr",
     "output_type": "stream",
     "text": [
      "WARNING: File 'File:Europe orthographic Caucasus Urals boundary.svg' contains missing revisions\n"
     ]
    },
    {
     "name": "stdout",
     "output_type": "stream",
     "text": [
      "../data/John_Diefenbaker\n",
      "../data/Geology_of_the_Death_Valley_area\n",
      "5% completed\n",
      "../data/Bombing_of_Yawata_(June_1944)\n",
      "../data/Gough_Whitlam\n",
      "../data/Boeing_777\n",
      "../data/Flag_of_Belarus\n"
     ]
    },
    {
     "name": "stderr",
     "output_type": "stream",
     "text": [
      "WARNING: File 'File:Europe orthographic Caucasus Urals boundary.svg' contains missing revisions\n"
     ]
    },
    {
     "name": "stdout",
     "output_type": "stream",
     "text": [
      "../data/Hurricane_Ginger\n",
      "../data/Hurricane_John_(1994)\n",
      "../data/Grover_Cleveland\n",
      "../data/Sweet_Track\n",
      "../data/Wonderbra\n",
      "../data/Interstate_68\n",
      "../data/Mary_Toft\n",
      "../data/Battle_of_Tippecanoe\n"
     ]
    },
    {
     "name": "stderr",
     "output_type": "stream",
     "text": [
      "WARNING: File 'File:Wikinews-logo.svg' contains missing revisions\n"
     ]
    },
    {
     "name": "stdout",
     "output_type": "stream",
     "text": [
      "../data/The_Turk\n",
      "../data/Battle_of_Svolder\n",
      "../data/2005_Atlantic_hurricane_season\n"
     ]
    },
    {
     "name": "stderr",
     "output_type": "stream",
     "text": [
      "WARNING: File 'File:Wikinews-logo.svg' contains missing revisions\n"
     ]
    },
    {
     "name": "stdout",
     "output_type": "stream",
     "text": [
      "../data/Over_the_Rainbow_(Connie_Talbot_album)\n",
      "../data/Solomon_P._Sharp\n",
      "../data/O-Bahn_Busway\n",
      "../data/Final_Fantasy_XI\n",
      "../data/Daniel_Lambert\n",
      "../data/Killer7\n",
      "../data/Globular_cluster\n",
      "../data/Checkers_speech\n",
      "../data/Hastings_Ismay,_1st_Baron_Ismay\n",
      "../data/The_General_in_His_Labyrinth\n",
      "../data/Warren_County,_Indiana\n",
      "../data/Central_London_Railway\n",
      "../data/Myles_Standish\n",
      "../data/Theramenes\n",
      "../data/Luke_P._Blackburn\n",
      "../data/Hydrogen\n",
      "../data/Coenred_of_Mercia\n",
      "../data/Super_Mario_64\n",
      "../data/Helium\n",
      "../data/Phil_Hartman\n",
      "../data/Hippocrates\n"
     ]
    },
    {
     "name": "stderr",
     "output_type": "stream",
     "text": [
      "WARNING: File 'File:Wikinews-logo.svg' contains missing revisions\n"
     ]
    },
    {
     "name": "stdout",
     "output_type": "stream",
     "text": [
      "../data/Dominik_Hašek\n",
      "../data/Halo_3\n",
      "../data/Huldrych_Zwingli\n",
      "../data/History_of_the_Yosemite_area\n",
      "../data/Cousin_Bette\n",
      "../data/Blair_Wark\n",
      "../data/John_Whittle\n",
      "../data/What'd_I_Say\n",
      "../data/Linezolid\n",
      "../data/Stanford_Memorial_Church\n",
      "../data/The_Philadelphia_Inquirer\n",
      "../data/Imagism\n",
      "../data/Populous__The_Beginning\n",
      "../data/Edgar_Towner\n",
      "../data/B_movie\n",
      "../data/Uncle_Tupelo\n",
      "../data/Anarky\n",
      "../data/Arbiter_(Halo)\n",
      "../data/Walter_Peeler\n",
      "../data/Robert_Garran\n",
      "../data/Woodes_Rogers\n",
      "6% completed\n",
      "../data/Gyeongju\n",
      "../data/Issy_Smith\n",
      "../data/Washington,_D.C\n"
     ]
    },
    {
     "name": "stderr",
     "output_type": "stream",
     "text": [
      "WARNING: File 'File:Wikinews-logo.svg' contains missing revisions\n"
     ]
    },
    {
     "name": "stdout",
     "output_type": "stream",
     "text": [
      "../data/C._D._Howe\n",
      "../data/Hamilton,_Ontario\n",
      "../data/Nancy_Cartwright\n"
     ]
    },
    {
     "name": "stderr",
     "output_type": "stream",
     "text": [
      "WARNING: File 'File:Wikinews-logo.svg' contains missing revisions\n"
     ]
    },
    {
     "name": "stdout",
     "output_type": "stream",
     "text": [
      "../data/Boletus_edulis\n",
      "../data/Tender_Mercies\n",
      "../data/Harry_Chauvel\n",
      "../data/Liberty_Head_nickel\n",
      "../data/Mercury_dime\n",
      "../data/Stereolab\n",
      "../data/Cædmon\n",
      "../data/Battle_of_Austerlitz\n",
      "../data/Macintosh_Classic\n",
      "../data/Elizabeth_Canning\n",
      "../data/Oriel_College,_Oxford\n",
      "../data/Representative_peer\n",
      "../data/Maserati_MC12\n",
      "../data/Rufus_Wilmot_Griswold\n",
      "../data/Nathaniel_Parker_Willis\n",
      "../data/Grand_Forks,_North_Dakota\n",
      "../data/Tom_Derrick\n",
      "../data/CFM_International_CFM56\n",
      "../data/Pontiac's_War\n",
      "../data/I_Know_Why_the_Caged_Bird_Sings\n",
      "../data/James_Newland\n",
      "../data/Harry_Murray\n",
      "../data/Hillsboro,_Oregon\n",
      "../data/Shelton_Benjamin\n",
      "../data/Lock_Haven,_Pennsylvania\n",
      "../data/John_Wark\n",
      "../data/Jarome_Iginla\n",
      "../data/Battle_of_Khafji\n",
      "../data/Joseph_Szigeti\n",
      "../data/Erie,_Pennsylvania\n"
     ]
    },
    {
     "name": "stderr",
     "output_type": "stream",
     "text": [
      "WARNING: File 'File:Wikinews-logo.svg' contains missing revisions\n"
     ]
    },
    {
     "name": "stdout",
     "output_type": "stream",
     "text": [
      "../data/USS_New_Ironsides\n",
      "../data/Maximus_the_Confessor\n",
      "../data/Roberto_Luongo\n",
      "../data/Charlotte_Stuart,_Duchess_of_Albany\n",
      "../data/Jack_the_Ripper__The_Final_Solution\n",
      "../data/Stephens_City,_Virginia\n",
      "../data/Il_ritorno_d'Ulisse_in_patria\n",
      "../data/Bedřich_Smetana\n",
      "../data/Yukon_Quest\n",
      "../data/Phagocyte\n",
      "../data/Battle_of_the_Cedars\n",
      "../data/Ernst_Lindemann\n",
      "../data/Agrippina_(opera)\n",
      "../data/James_Joyce\n",
      "../data/Johannes_Kepler\n",
      "../data/Rotavirus\n",
      "../data/Brownhills\n",
      "../data/John_Lennon\n"
     ]
    },
    {
     "name": "stderr",
     "output_type": "stream",
     "text": [
      "WARNING: File 'File:Wikinews-logo.svg' contains missing revisions\n"
     ]
    },
    {
     "name": "stdout",
     "output_type": "stream",
     "text": [
      "../data/HMS_Cardiff_(D108)\n",
      "../data/Nafaanra\n",
      "7% completed\n",
      "../data/1950_Atlantic_hurricane_season\n",
      "../data/Fightin'_Texas_Aggie_Band\n",
      "../data/Margate_F.C\n",
      "../data/John_Churchill,_1st_Duke_of_Marlborough\n",
      "../data/Sheerness\n",
      "../data/Sarah_Churchill,_Duchess_of_Marlborough\n",
      "../data/Flag_of_Portugal\n"
     ]
    },
    {
     "name": "stderr",
     "output_type": "stream",
     "text": [
      "WARNING: File 'File:Europe orthographic Caucasus Urals boundary.svg' contains missing revisions\n"
     ]
    },
    {
     "name": "stdout",
     "output_type": "stream",
     "text": [
      "../data/1952_Winter_Olympics\n",
      "../data/Flower_Drum_Song\n",
      "../data/Cold_Feet\n",
      "../data/Arthur_(Or_the_Decline_and_Fall_of_the_British_Empire)\n",
      "../data/Basiliscus\n",
      "../data/National_emblem_of_Belarus\n"
     ]
    },
    {
     "name": "stderr",
     "output_type": "stream",
     "text": [
      "WARNING: File 'File:Europe orthographic Caucasus Urals boundary.svg' contains missing revisions\n"
     ]
    },
    {
     "name": "stdout",
     "output_type": "stream",
     "text": [
      "../data/Stede_Bonnet\n",
      "../data/Our_Friends_in_the_North\n",
      "../data/Joking_Apart\n"
     ]
    },
    {
     "name": "stderr",
     "output_type": "stream",
     "text": [
      "WARNING: File 'File:Wikinews-logo.svg' contains missing revisions\n"
     ]
    },
    {
     "name": "stdout",
     "output_type": "stream",
     "text": [
      "../data/Jaguar\n",
      "../data/Powderfinger\n",
      "../data/Paul_E._Patton\n",
      "../data/Princess_Victoria_of_Hesse_and_by_Rhine\n",
      "../data/Flag_of_Japan\n",
      "../data/Cleveland_Bay\n",
      "../data/Parallel_computing\n",
      "../data/Witchfinder_General_(film)\n",
      "../data/2006_Atlantic_hurricane_season\n"
     ]
    },
    {
     "name": "stderr",
     "output_type": "stream",
     "text": [
      "WARNING: File 'File:Wikinews-logo.svg' contains missing revisions\n"
     ]
    },
    {
     "name": "stdout",
     "output_type": "stream",
     "text": [
      "../data/Oxygen_toxicity\n",
      "../data/Joy_Division\n",
      "../data/Fredonian_Rebellion\n",
      "../data/Æthelred_of_Mercia\n",
      "../data/Deinosuchus\n",
      "../data/Wulfhere_of_Mercia\n",
      "../data/Kuiper_belt\n",
      "../data/Penda_of_Mercia\n",
      "../data/1957_Canadian_federal_election\n",
      "../data/LSWR_N15_class\n",
      "../data/Liberty_Bell\n",
      "../data/Hurricane_Hazel\n",
      "../data/Metroid_Prime_2__Echoes\n",
      "../data/Coenwulf_of_Mercia\n",
      "../data/King_Arthur\n",
      "../data/1926_World_Series\n",
      "../data/Homer's_Enemy\n",
      "../data/Homer's_Phobia\n",
      "../data/Olivier_Messiaen\n",
      "../data/Khalid_al-Mihdhar\n",
      "../data/Rogue_River_(Oregon)\n",
      "../data/Ode_on_a_Grecian_Urn\n",
      "../data/Seabird\n",
      "../data/Portman_Road\n",
      "../data/Hurricane_Kenna\n",
      "../data/Gangtok\n",
      "../data/Halo_2\n",
      "../data/Adrian_Boult\n",
      "../data/Art_Ross\n",
      "../data/The_Supremes\n",
      "../data/Castlevania__Dawn_of_Sorrow\n",
      "../data/Nathu_La\n"
     ]
    },
    {
     "name": "stderr",
     "output_type": "stream",
     "text": [
      "WARNING: File 'File:Wikinews-logo.svg' contains missing revisions\n"
     ]
    },
    {
     "name": "stdout",
     "output_type": "stream",
     "text": [
      "8% completed\n",
      "../data/Montague_Druitt\n",
      "../data/John_Day_(printer)\n",
      "../data/David_I_of_Scotland\n",
      "../data/La_Peau_de_chagrin\n",
      "../data/Terra_Nova__Strike_Force_Centauri\n",
      "../data/Thomas_Beecham\n",
      "../data/Myst_V__End_of_Ages\n",
      "../data/Belle_Vue_Zoological_Gardens\n",
      "../data/1941_Atlantic_hurricane_season\n",
      "../data/Jordan_River_(Utah)\n",
      "../data/1933_Atlantic_hurricane_season\n",
      "../data/Fantastic_(magazine)\n",
      "../data/Sydney_Riot_of_1879\n",
      "../data/North_Carolina-class_battleship\n",
      "../data/Operation_Cobra\n"
     ]
    },
    {
     "name": "stderr",
     "output_type": "stream",
     "text": [
      "WARNING: File 'File:Wikinews-logo.svg' contains missing revisions\n"
     ]
    },
    {
     "name": "stdout",
     "output_type": "stream",
     "text": [
      "../data/The_City_of_New_York_vs._Homer_Simpson\n",
      "../data/Silent_Alarm\n",
      "../data/Battle_of_Schellenberg\n",
      "../data/USS_President_(1800)\n",
      "../data/Emmy_Noether\n",
      "../data/Thomas_C._Kinkaid\n",
      "../data/Shapinsay\n",
      "../data/Norman_Birkett,_1st_Baron_Birkett\n",
      "../data/Bodyline\n",
      "../data/A._E._J._Collins\n",
      "../data/Lindow_Man\n",
      "../data/HMAS_Melbourne_(R21)\n",
      "../data/Verbascum_thapsus\n",
      "../data/HMS_Royal_Oak_(08)\n",
      "../data/Gas_tungsten_arc_welding\n",
      "../data/Battle_of_Savo_Island\n",
      "../data/True_at_First_Light\n",
      "../data/Tulsa,_Oklahoma\n"
     ]
    },
    {
     "name": "stderr",
     "output_type": "stream",
     "text": [
      "WARNING: File 'File:Wikinews-logo.svg' contains missing revisions\n"
     ]
    },
    {
     "name": "stdout",
     "output_type": "stream",
     "text": [
      "../data/Thomas_Percy_(Gunpowder_Plot)\n",
      "../data/L'Orfeo\n",
      "../data/The_Body_(Buffy_the_Vampire_Slayer)\n",
      "../data/Astrophysics_Data_System\n",
      "../data/Startling_Stories\n",
      "../data/Still_Reigning\n",
      "../data/Frederick_Delius\n",
      "../data/Kansas_Turnpike\n",
      "../data/Legacy_of_Kain__Soul_Reaver\n",
      "../data/Giovanni_Villani\n",
      "../data/Ratanakiri_Province\n",
      "../data/You_Only_Move_Twice\n",
      "../data/Louis_Riel\n",
      "../data/Ian_Chappell\n",
      "../data/Japanese_aircraft_carrier_Hōshō\n",
      "../data/Galaxy_Science_Fiction\n",
      "../data/Shojo_Beat\n",
      "../data/St_Kilda,_Scotland\n",
      "../data/Ode_on_Indolence\n",
      "../data/Paul_Collingwood\n",
      "../data/Manitoba\n"
     ]
    },
    {
     "name": "stderr",
     "output_type": "stream",
     "text": [
      "WARNING: File 'File:Wikinews-logo.svg' contains missing revisions\n"
     ]
    },
    {
     "name": "stdout",
     "output_type": "stream",
     "text": [
      "../data/Make_Way_for_Ducklings\n",
      "../data/Royal_assent\n",
      "9% completed\n",
      "../data/Numerical_weather_prediction\n",
      "../data/Martin_Bucer\n",
      "../data/Interstate_355\n",
      "../data/Calgary_Hitmen\n",
      "../data/Wonder_Stories\n",
      "../data/Monadnock_Building\n",
      "../data/Battle_of_Gonzales\n",
      "../data/Wiglaf_of_Mercia\n",
      "../data/War_of_the_Bavarian_Succession\n",
      "../data/Vkhutemas\n",
      "../data/Group_(mathematics)\n",
      "../data/John_W._Johnston\n",
      "../data/Sunderland_Echo\n",
      "../data/Banksia_cuneata\n",
      "../data/Hare_coursing\n",
      "../data/No_Depression_(album)\n",
      "../data/Augustus_Owsley_Stanley\n",
      "../data/Cape_Feare\n",
      "../data/Australian_green_tree_frog\n",
      "../data/Georges_Vézina\n",
      "../data/If_(magazine)\n",
      "../data/SMS_König\n",
      "../data/Louis_Slotin\n",
      "../data/Pioneer_Zephyr\n",
      "../data/Jake_Gyllenhaal\n",
      "../data/Brian_Booth\n",
      "../data/Wandsworth_Bridge\n",
      "../data/Main_sequence\n",
      "../data/Sumatran_rhinoceros\n",
      "../data/Riverina\n",
      "../data/History_of_the_Australian_Capital_Territory\n",
      "../data/Battle_of_the_Santa_Cruz_Islands\n",
      "../data/Internationalist_(album)\n",
      "../data/Planescape__Torment\n",
      "../data/SMS_Derfflinger\n",
      "../data/Mary_Wollstonecraft\n"
     ]
    },
    {
     "name": "stderr",
     "output_type": "stream",
     "text": [
      "WARNING: File 'File:Wikinews-logo.svg' contains missing revisions\n"
     ]
    },
    {
     "name": "stdout",
     "output_type": "stream",
     "text": [
      "../data/Maiden_Castle,_Dorset\n",
      "../data/Chat_Moss\n",
      "../data/SMS_Blücher\n",
      "../data/Oliver_Wendell_Holmes_Sr\n",
      "../data/SR_Leader_class\n",
      "../data/SMS_Hindenburg\n",
      "../data/Expedition_to_the_Barrier_Peaks\n",
      "../data/Nicolo_Giraud\n",
      "../data/Battle_of_Barrosa\n",
      "../data/Villa_Park\n",
      "../data/Rashtrakuta_dynasty\n",
      "../data/Japanese_battleship_Haruna\n",
      "../data/Cædwalla_of_Wessex\n",
      "../data/Edmontosaurus\n",
      "../data/Shaw_and_Crompton\n",
      "../data/Shadow_the_Hedgehog_(video_game)\n",
      "../data/G._Ledyard_Stebbins\n",
      "../data/Carnivàle\n",
      "../data/Manchester_Baby\n",
      "../data/Mauna_Loa\n",
      "10% completed\n",
      "../data/Alpha_Kappa_Alpha\n",
      "../data/Emily_Dickinson\n",
      "../data/John_J._Crittenden\n",
      "../data/Stark_Raving_Dad\n",
      "../data/California_State_Route_78\n",
      "../data/The_Garden_of_Earthly_Delights\n",
      "../data/Óengus_I\n",
      "../data/Retiarius\n",
      "../data/FairTax\n",
      "../data/Ketuanan_Melayu\n",
      "../data/Timor_Leste_Defence_Force\n",
      "../data/SMS_Moltke\n",
      "../data/Rokeby_Venus\n",
      "../data/SMS_Von_der_Tann\n",
      "../data/Kreutz_sungrazer\n"
     ]
    },
    {
     "name": "stderr",
     "output_type": "stream",
     "text": [
      "WARNING: File 'File:Wikinews-logo.svg' contains missing revisions\n"
     ]
    },
    {
     "name": "stdout",
     "output_type": "stream",
     "text": [
      "../data/Typhoon_Pongsona\n",
      "../data/SMS_Helgoland\n",
      "../data/Hurricane_Dog_(1950)\n",
      "../data/Raid_at_Cabanatuan\n",
      "../data/Dover_Athletic_F.C\n",
      "../data/Kingdom_Hearts\n",
      "../data/Samantha_Smith\n",
      "../data/Trevor_Linden\n",
      "../data/Panavision\n",
      "../data/Bull_Run_River_(Oregon)\n",
      "../data/Mario_Vargas_Llosa\n",
      "../data/Tropical_Storm_Vamei\n",
      "../data/Court_of_Chancery\n",
      "../data/Hurricane_Ismael\n",
      "../data/Orion_(mythology)\n",
      "../data/United_Nations_Parliamentary_Assembly\n",
      "../data/Cloud_(video_game)\n",
      "../data/Ethan_Hawke\n",
      "../data/This_Charming_Man\n",
      "../data/Battle_of_Tassafaronga\n",
      "../data/Attack_on_Sydney_Harbour\n",
      "../data/GRB_970228\n",
      "../data/Anna_of_East_Anglia\n",
      "../data/Ailanthus_altissima\n",
      "../data/Cartman_Gets_an_Anal_Probe\n",
      "../data/Ion_Heliade_Rădulescu\n",
      "../data/Music_of_Athens,_Georgia\n",
      "../data/Bam_Thwok\n",
      "../data/Manchester_City_F.C\n"
     ]
    },
    {
     "name": "stderr",
     "output_type": "stream",
     "text": [
      "WARNING: File 'File:Wikinews-logo.svg' contains missing revisions\n"
     ]
    },
    {
     "name": "stdout",
     "output_type": "stream",
     "text": [
      "../data/Arular\n",
      "../data/Hurricane_Irene_(1999)\n",
      "../data/Bob_Meusel\n",
      "../data/Daniel_Sedin\n",
      "../data/Doomsday_(Doctor_Who)\n",
      "../data/Wilfred_Rhodes\n",
      "../data/Hell_Is_Other_Robots\n",
      "../data/Henrik_Sedin\n",
      "../data/Bernard_Williams\n",
      "../data/Madman_Muntz\n",
      "../data/Monte_Ne\n",
      "../data/Captain_Scarlet_and_the_Mysterons\n",
      "../data/Hurricane_Juan\n",
      "11% completed\n",
      "../data/George_Calvert,_1st_Baron_Baltimore\n",
      "../data/Edward_VIII_abdication_crisis\n",
      "../data/Aldfrith_of_Northumbria\n",
      "../data/Angus_Lewis_Macdonald\n",
      "../data/Jay_Pritzker_Pavilion\n"
     ]
    },
    {
     "name": "stderr",
     "output_type": "stream",
     "text": [
      "WARNING: File 'File:Wikinews-logo.svg' contains missing revisions\n"
     ]
    },
    {
     "name": "stdout",
     "output_type": "stream",
     "text": [
      "../data/Oryzomys\n",
      "../data/Hurricane_Esther\n",
      "../data/Radcliffe,_Greater_Manchester\n",
      "../data/Temple_Sinai_(Oakland,_California)\n",
      "../data/Jacques_Plante\n",
      "../data/Weight_Gain_4000\n",
      "../data/H.D\n",
      "../data/SS_Dakotan\n",
      "../data/Political_integration_of_India\n",
      "../data/New_York_State_Route_28N\n",
      "../data/Mary__A_Fiction\n",
      "../data/Damien_(South_Park)\n",
      "../data/Jerry_Voorhis\n",
      "../data/Bids_for_the_2012_Summer_Olympics\n"
     ]
    },
    {
     "name": "stderr",
     "output_type": "stream",
     "text": [
      "WARNING: File 'File:Wikinews-logo.svg' contains missing revisions\n"
     ]
    },
    {
     "name": "stdout",
     "output_type": "stream",
     "text": [
      "../data/United_States_Academic_Decathlon\n",
      "../data/Starvin'_Marvin\n",
      "../data/Hurricane_Charley_(1986)\n",
      "../data/Meteorological_history_of_Hurricane_Gordon\n",
      "../data/Richard_Cantillon\n",
      "../data/Anglo-Zanzibar_War\n",
      "../data/Alexandre_Banza\n",
      "../data/Ashford_v_Thornton\n",
      "../data/Asylum_confinement_of_Christopher_Smart\n",
      "../data/Icelandic_horse\n",
      "../data/Fantastic_Universe\n",
      "../data/Cock_Lane_ghost\n",
      "../data/The_Great_American_Bash_(2005)\n",
      "../data/Magnetosphere_of_Jupiter\n",
      "../data/Acid2\n",
      "../data/Tom_Driberg\n",
      "../data/Admiralty_Islands_campaign\n",
      "../data/Winfield_Scott_Hancock\n",
      "../data/Cerro_Azul_(Chile_volcano)\n",
      "../data/Oakwood_Cemetery_(Troy,_New_York)\n",
      "../data/Caversham,_New_Zealand\n",
      "../data/Tech_Tower\n",
      "../data/Neilston\n",
      "../data/SMS_Baden\n",
      "../data/Cedric_Howell\n",
      "../data/Agatha_Christie__Murder_on_the_Orient_Express\n",
      "../data/Talyllyn_Railway\n",
      "../data/Hurricane_Claudette_(2003)\n",
      "../data/SMS_Bayern\n",
      "../data/Military_history_of_Puerto_Rico\n",
      "../data/Supernatural_(season_1)\n",
      "../data/Ngô_Đình_Cẩn\n",
      "../data/Battle_of_Moscow\n",
      "../data/Manila_Light_Rail_Transit_System\n",
      "../data/Effects_of_Hurricane_Isabel_in_Maryland_and_Washington,_D.C\n",
      "../data/Meteorological_history_of_Hurricane_Katrina\n",
      "../data/Ayumi_Hamasaki\n",
      "12% completed\n",
      "../data/Compsognathus\n",
      "../data/Cynna_Kydd\n",
      "../data/In_Rainbows\n",
      "../data/Styracosaurus\n",
      "../data/Leek_Town_F.C\n",
      "../data/Roger_Waters\n",
      "../data/Anna_Laetitia_Barbauld\n",
      "../data/Pennsylvania_State_Capitol\n",
      "../data/Fountain_of_Time\n",
      "../data/Peter_Evans_(swimmer)\n",
      "../data/766th_Independent_Infantry_Regiment_(North_Korea)\n",
      "../data/Shoe_polish\n",
      "../data/Venture_Science_Fiction\n",
      "../data/2000_Sri_Lanka_cyclone\n",
      "../data/Hurricane_Nate_(2005)\n",
      "../data/Quiriguá\n",
      "../data/No._79_Squadron_RAAF\n",
      "../data/Glorious_First_of_June\n",
      "../data/Strapping_Young_Lad\n",
      "../data/Free_Association_of_German_Trade_Unions\n",
      "../data/Hurricane_Erika_(1997)\n",
      "../data/Eric_Bana\n",
      "../data/Midtown_Madness\n",
      "../data/Touch_Me_I'm_Sick\n",
      "../data/Harold_Innis\n",
      "../data/Badnjak_(Serbian)\n",
      "../data/Clements_Markham\n",
      "../data/History_of_a_Six_Weeks'_Tour\n",
      "../data/USS_Orizaba\n",
      "../data/Brian_Horrocks\n",
      "../data/Wendell_Ford\n",
      "../data/Sam_Loxton\n",
      "../data/Taare_Zameen_Par\n",
      "../data/Shadow_of_the_Colossus\n",
      "../data/Oregon_State_Capitol\n",
      "../data/Rumours_(album)\n",
      "../data/SMS_Kronprinz\n",
      "../data/Year_Zero_(album)\n",
      "../data/Short-beaked_echidna\n",
      "../data/An_Experiment_on_a_Bird_in_the_Air_Pump\n",
      "../data/Wally_Hammond\n",
      "../data/Edward_Low\n",
      "../data/2009_Giro_d'Italia\n",
      "../data/New_Super_Mario_Bros\n",
      "../data/Southern_Cross_Expedition\n",
      "../data/Mark_Kerry\n",
      "../data/AMX-30E\n",
      "../data/Mark_Tonelli\n",
      "../data/Thriller_(Michael_Jackson_album)\n",
      "../data/Sandra_Morgan\n",
      "../data/SS_Pennsylvanian\n",
      "../data/Faith_Leech\n",
      "../data/Myxobolus_cerebralis\n",
      "../data/Paramount_Television_Network\n",
      "../data/The_Four_Stages_of_Cruelty\n",
      "../data/Rosewood_massacre\n",
      "13% completed\n",
      "../data/Palladian_architecture\n",
      "../data/George_Macaulay\n",
      "../data/William_Cragh\n",
      "../data/Natalie_Clifford_Barney\n",
      "../data/Bobby_Eaton\n",
      "../data/Thoroughbred\n",
      "../data/Lord_of_the_Universe\n",
      "../data/SS_Washingtonian_(1913)\n",
      "../data/F-Zero_GX\n",
      "../data/Four_Times_of_the_Day\n",
      "../data/St._Michael's_Golden-Domed_Monastery\n",
      "../data/Sky_Blue_Sky\n",
      "../data/Valley_Parade\n",
      "../data/Ice_hockey_at_the_Olympic_Games\n",
      "../data/Chelsea_Bridge\n",
      "../data/The_Hitchhiker's_Guide_to_the_Galaxy_(radio_series)\n",
      "../data/Fauna_of_Scotland\n",
      "../data/Truthiness\n",
      "../data/The_Well_of_Loneliness\n",
      "../data/IK_Pegasi\n",
      "../data/HMS_Endeavour\n",
      "../data/Bill_Brown_(cricketer)\n",
      "../data/Golden-crowned_sifaka\n",
      "../data/SS_Montanan\n",
      "../data/The_Judd_School\n",
      "../data/Ian_Craig\n",
      "../data/Bert_Trautmann\n",
      "../data/Intimacy_(Bloc_Party_album)\n",
      "../data/Ian_Johnson_(cricketer)\n",
      "../data/2005_Texas_Longhorns_football_team\n",
      "../data/Bacteria\n",
      "../data/Satyajit_Ray\n",
      "../data/Amanita_phalloides\n",
      "../data/Arthur_Morris\n",
      "../data/The_Penelopiad\n",
      "../data/Stamata_Revithi\n",
      "../data/Trafford_Park\n",
      "../data/Clem_Hill\n",
      "../data/Hurricane_Isis_(1998)\n",
      "../data/False_potto\n",
      "../data/Anodyne_(album)\n",
      "../data/Hugh_Trumble\n",
      "../data/Italian_War_of_1542–1546\n",
      "../data/Frederick_Scherger\n",
      "../data/Irish_phonology\n",
      "../data/Henry_Cornelius_Burnett\n",
      "../data/Crackdown\n",
      "../data/Harry_Trott\n",
      "../data/Sherlock_Holmes_Baffled\n",
      "../data/William_Hillcourt\n",
      "../data/Zion_National_Park\n",
      "../data/Elwood_Haynes\n",
      "../data/J._R._Richard\n",
      "../data/Andrew_Cunningham,_1st_Viscount_Cunningham_of_Hyndhope\n",
      "../data/Osteochondritis_dissecans\n",
      "../data/2007_USC_Trojans_football_team\n",
      "../data/Norte_Chico_civilization\n",
      "14% completed\n",
      "../data/Peking_opera\n",
      "../data/Delrina\n",
      "../data/Battle_of_Pulo_Aura\n",
      "../data/Fiji_parrotfinch\n",
      "../data/Hero_of_Belarus\n",
      "../data/Battle_of_Albuera\n",
      "../data/Mutual_Broadcasting_System\n",
      "../data/George_I_of_Greece\n",
      "../data/Geology_of_the_Grand_Canyon_area\n",
      "../data/Vasa_(ship)\n",
      "../data/Privilege_of_peerage\n",
      "../data/Amanita_ocreata\n",
      "../data/Drapier's_Letters\n",
      "../data/Canadian_heraldry\n",
      "../data/Sarah_Trimmer\n",
      "../data/Webley_Revolver\n",
      "../data/Tiridates_I_of_Armenia\n",
      "../data/Shield_nickel\n",
      "../data/Sophie_Blanchard\n",
      "../data/SS_Minnesotan\n",
      "../data/The_Third_of_May_1808\n",
      "../data/Courageous-class_battlecruiser\n",
      "../data/Herrerasaurus\n",
      "../data/Just_Like_Heaven_(song)\n",
      "../data/Adolfo_Farsari\n",
      "../data/Edmund_Herring\n",
      "../data/The_Boys_from_Baghdad_High\n",
      "../data/Science_Fantasy_(magazine)\n",
      "../data/Act_of_Independence_of_Lithuania\n",
      "../data/Geology_of_the_Zion_and_Kolob_canyons_area\n",
      "../data/Alaska_Mental_Health_Enabling_Act\n",
      "../data/R.E.M\n",
      "../data/Howie_Morenz\n",
      "../data/Roman_Catholic_Archdiocese_of_Miami\n",
      "../data/Meteorological_history_of_Hurricane_Wilma\n",
      "../data/Transit_of_Venus\n",
      "../data/House_with_Chimaeras\n",
      "../data/Metroid_Prime_3__Corruption\n",
      "../data/Harris_Theater_(Chicago)\n",
      "../data/Eagle_(British_comics)\n",
      "../data/2003_Pacific_hurricane_season\n",
      "../data/Hannah_Primrose,_Countess_of_Rosebery\n",
      "../data/Symphony_No._8_(Mahler)\n",
      "../data/Renewable_energy_in_Scotland\n",
      "../data/Exosome_complex\n",
      "../data/Neptune\n",
      "../data/Tokyo_Mew_Mew\n",
      "../data/USS_New_Jersey_(BB-62)\n",
      "../data/Waterfall_Gully,_South_Australia\n",
      "../data/The_Basement_Tapes\n",
      "../data/SS_Ohioan_(1914)\n",
      "../data/Telopea_speciosissima\n",
      "../data/Rudolf_Caracciola\n",
      "../data/Geology_of_the_Bryce_Canyon_area\n",
      "../data/2006_Pacific_hurricane_season\n"
     ]
    },
    {
     "name": "stderr",
     "output_type": "stream",
     "text": [
      "WARNING: File 'File:Wikinews-logo.svg' contains missing revisions\n"
     ]
    },
    {
     "name": "stdout",
     "output_type": "stream",
     "text": [
      "../data/Light_Tank_Mk_VII_Tetrarch\n",
      "15% completed\n",
      "../data/Chew_Valley\n",
      "../data/Blackburn_Olympic_F.C\n",
      "../data/Eric_A._Havelock\n",
      "../data/Chicago_Board_of_Trade_Building\n",
      "../data/Early_life_of_Samuel_Johnson\n",
      "../data/William_D._Boyce\n",
      "../data/John_Brooke-Little\n",
      "../data/Action_of_13_January_1797\n",
      "../data/J._C._W._Beckham\n",
      "../data/Somerset_Levels\n",
      "../data/A_Very_Merry_Unauthorized_Children's_Scientology_Pageant\n",
      "../data/Virus\n",
      "../data/New_York_State_Route_28\n",
      "../data/Blue_iguana\n",
      "../data/Kenneth_Walker\n",
      "../data/Stegosaurus\n",
      "../data/Chickasaw_Turnpike\n",
      "../data/Áedán_mac_Gabráin\n",
      "../data/New_York_State_Route_32\n",
      "../data/West_Wycombe_Park\n"
     ]
    },
    {
     "name": "stderr",
     "output_type": "stream",
     "text": [
      "WARNING: File 'File:Sirfrancisdashwood.jpg' contains missing revisions\n"
     ]
    },
    {
     "name": "stdout",
     "output_type": "stream",
     "text": [
      "../data/Morotai_Mutiny\n",
      "../data/Family_of_Gediminas\n",
      "../data/Homicide__Life_on_the_Street_(season_1)\n",
      "../data/Fungus\n",
      "../data/Princess_Charlotte_of_Wales\n",
      "../data/History_of_American_football\n",
      "../data/Operation_Auca\n",
      "../data/Myst_III__Exile\n",
      "../data/Lazare_Ponticelli\n",
      "../data/New_Orleans_Mint\n",
      "../data/Turok__Dinosaur_Hunter\n",
      "../data/USS_West_Bridge\n",
      "../data/Freak_Out!\n",
      "../data/E._Urner_Goodman\n",
      "../data/Larrys_Creek\n",
      "../data/Enter_the_Wu-Tang_(36_Chambers)\n",
      "../data/North_Road_(Manchester)\n",
      "../data/Siward,_Earl_of_Northumbria\n",
      "../data/Uriel_Sebree\n",
      "../data/Herbie_Hewett\n",
      "../data/Archaea\n",
      "../data/Iridion_3D\n",
      "../data/Olm\n",
      "../data/Allegro_(musical)\n",
      "../data/Tropical_Storm_Keith_(1988)\n",
      "../data/Supernature_(Goldfrapp_album)\n",
      "../data/Great_Northern,_Piccadilly_and_Brompton_Railway\n",
      "../data/Harvey_Milk\n",
      "../data/Aquaria_(video_game)\n",
      "../data/1987_(What_the_Fuck_Is_Going_On_)\n",
      "../data/Old_Trafford\n",
      "../data/Scottish_National_Antarctic_Expedition\n",
      "../data/Baker_Street_and_Waterloo_Railway\n",
      "../data/Pauline_Fowler\n",
      "../data/First_Roumanian-American_Congregation\n",
      "../data/Audioslave\n",
      "../data/History_of_Ipswich_Town_F.C\n",
      "16% completed\n",
      "../data/Myst_IV__Revelation\n",
      "../data/Dookie\n",
      "../data/Ehime_Maru_and_USS_Greeneville_collision\n",
      "../data/Gray_mouse_lemur\n",
      "../data/Armament_of_the_Iowa-class_battleship\n",
      "../data/Tarbosaurus\n",
      "../data/Falaise_Pocket\n"
     ]
    },
    {
     "name": "stderr",
     "output_type": "stream",
     "text": [
      "WARNING: File 'File:Wikinews-logo.svg' contains missing revisions\n"
     ]
    },
    {
     "name": "stdout",
     "output_type": "stream",
     "text": [
      "../data/The_Simpsons__Hit_&_Run\n",
      "../data/Parasaurolophus\n",
      "../data/Acute_myeloid_leukemia\n",
      "../data/Discovery_Expedition\n",
      "../data/Flywheel,_Shyster,_and_Flywheel\n",
      "../data/Tuck_School_of_Business\n",
      "../data/Herschel_Greer_Stadium\n",
      "../data/History_of_Norwich_City_F.C\n",
      "../data/Thistle,_Utah\n",
      "../data/Operation_Tractable\n"
     ]
    },
    {
     "name": "stderr",
     "output_type": "stream",
     "text": [
      "WARNING: File 'File:Wikinews-logo.svg' contains missing revisions\n"
     ]
    },
    {
     "name": "stdout",
     "output_type": "stream",
     "text": [
      "../data/L'incoronazione_di_Poppea\n",
      "../data/Alpine_chough\n",
      "../data/Nimrod_Expedition\n",
      "../data/Kala_(album)\n",
      "../data/Hamersley,_Western_Australia\n",
      "../data/Ima_Hogg\n",
      "../data/Ross_Sea_party\n",
      "../data/Beth_Hamedrash_Hagodol\n",
      "../data/Scotland_in_the_High_Middle_Ages\n",
      "../data/Tropical_Storm_Hermine_(1998)\n",
      "../data/AHS_Centaur\n",
      "../data/Banksia_integrifolia\n",
      "../data/Pinguicula_moranensis\n",
      "../data/Blood_Sugar_Sex_Magik\n",
      "../data/Operation_Charnwood\n"
     ]
    },
    {
     "name": "stderr",
     "output_type": "stream",
     "text": [
      "WARNING: File 'File:Wikinews-logo.svg' contains missing revisions\n"
     ]
    },
    {
     "name": "stdout",
     "output_type": "stream",
     "text": [
      "../data/Johnson_Creek_(Willamette_River)\n",
      "../data/Terra_Nova_Expedition\n",
      "../data/George_Washington_(inventor)\n",
      "../data/Ray_Emery\n",
      "../data/Alleyway_(video_game)\n",
      "../data/White_Deer_Hole_Creek\n",
      "../data/Marwari_horse\n",
      "../data/Polish_culture_during_World_War_II\n",
      "../data/Convention_of_1832\n",
      "../data/Star_Wars__Rogue_Squadron\n",
      "../data/Nigel_Kneale\n",
      "../data/Tiny_Thompson\n",
      "../data/Quatermass_and_the_Pit\n",
      "../data/Meerkat_Manor\n",
      "../data/Royal_Maundy\n",
      "../data/Vol._3__(The_Subliminal_Verses)\n",
      "../data/Aquaman_(TV_pilot)\n",
      "../data/The_Revolution_Will_Not_Be_Televised_(film)\n",
      "../data/The_Time_Traveler's_Wife\n",
      "../data/Interstate_70_in_Utah\n",
      "../data/Dawson_Creek\n",
      "../data/Michael_Brown_Okinawa_assault_incident\n",
      "../data/Lions_(album)\n",
      "../data/Panzer_I\n",
      "17% completed\n",
      "../data/3rd_Battalion,_3rd_Marines\n",
      "../data/Society_of_the_Song_dynasty\n",
      "../data/Bricker_Amendment\n",
      "../data/Peace_dollar\n",
      "../data/Morgan_dollar\n",
      "../data/Helicobacter_pylori\n",
      "../data/North_by_North_Quahog\n"
     ]
    },
    {
     "name": "stderr",
     "output_type": "stream",
     "text": [
      "WARNING: File 'File:Wikinews-logo.svg' contains missing revisions\n"
     ]
    },
    {
     "name": "stdout",
     "output_type": "stream",
     "text": [
      "../data/Edwin_Taylor_Pollock\n",
      "../data/History_of_Minnesota\n",
      "../data/Robert_Catesby\n",
      "../data/Operation_Ke\n",
      "../data/Interstate_70_in_Colorado\n",
      "../data/1955_State_of_Vietnam_referendum\n",
      "../data/El_Hatillo_Municipality\n",
      "../data/Political_history_of_medieval_Karnataka\n",
      "../data/Lambeosaurus\n",
      "../data/Susi_Kentikian\n",
      "../data/2005_United_States_Grand_Prix\n"
     ]
    },
    {
     "name": "stderr",
     "output_type": "stream",
     "text": [
      "WARNING: File 'File:Wikinews-logo.svg' contains missing revisions\n"
     ]
    },
    {
     "name": "stdout",
     "output_type": "stream",
     "text": [
      "../data/Banker_horse\n",
      "../data/SR_West_Country_and_Battle_of_Britain_classes\n",
      "../data/Parthian_Empire\n",
      "../data/Malmö_FF\n",
      "../data/Albert_Kesselring\n",
      "../data/Beorhtwulf_of_Mercia\n",
      "../data/U2_3D\n",
      "../data/Tropical_Storm_Hanna_(2002)\n",
      "../data/The_Bartered_Bride\n",
      "../data/Dietrich_v_The_Queen\n",
      "../data/Helmut_Lent\n",
      "../data/Armero_tragedy\n",
      "../data/Ramón_Emeterio_Betances\n",
      "../data/Wales_national_rugby_union_team\n"
     ]
    },
    {
     "name": "stderr",
     "output_type": "stream",
     "text": [
      "WARNING: File 'File:Flag of Tonga.svg' contains missing revisions\n"
     ]
    },
    {
     "name": "stdout",
     "output_type": "stream",
     "text": [
      "../data/Ivan_Alexander_of_Bulgaria\n",
      "../data/Dream_Days_at_the_Hotel_Existence\n",
      "../data/Victoria_Cross_(Canada)\n",
      "../data/On_the_Banks_of_the_Wabash,_Far_Away\n",
      "../data/200_(Stargate_SG-1)\n",
      "../data/Through_the_Looking_Glass_(Lost)\n",
      "../data/4X\n",
      "../data/HMS_Ark_Royal_(91)\n",
      "../data/Majungasaurus\n",
      "Downloaded 44 images, where 0 of them unavailable from commons\n",
      "CPU times: user 4min 59s, sys: 6.73 s, total: 5min 6s\n",
      "Wall time: 2h 5min 42s\n"
     ]
    }
   ],
   "source": [
    "%%time\n",
    "reader.query(filename=filename, out_dir='../data/', debug_info=True, offset=0, limit=1000)"
   ]
  }
 ],
 "metadata": {
  "kernelspec": {
   "display_name": "Python 3",
   "language": "python",
   "name": "python3"
  },
  "language_info": {
   "codemirror_mode": {
    "name": "ipython",
    "version": 3
   },
   "file_extension": ".py",
   "mimetype": "text/x-python",
   "name": "python",
   "nbconvert_exporter": "python",
   "pygments_lexer": "ipython3",
   "version": "3.7.4"
  }
 },
 "nbformat": 4,
 "nbformat_minor": 2
}
