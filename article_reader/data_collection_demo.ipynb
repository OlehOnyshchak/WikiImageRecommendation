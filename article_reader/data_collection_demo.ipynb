{
 "cells": [
  {
   "cell_type": "markdown",
   "metadata": {},
   "source": [
    "## Usage of python script"
   ]
  },
  {
   "cell_type": "code",
   "execution_count": 1,
   "metadata": {},
   "outputs": [],
   "source": [
    "use_good_articles = False\n",
    "is_debug = True"
   ]
  },
  {
   "cell_type": "code",
   "execution_count": 2,
   "metadata": {},
   "outputs": [],
   "source": [
    "import reader\n",
    "import pandas as pd\n",
    "\n",
    "filename = 'quality_articles_list.tsv' if use_good_articles else 'featured_articles_list.tsv'\n",
    "orig_filename = 'quality_articles.tsv' if use_good_articles else 'featured_Articles.tsv'\n",
    "title_column = \"title\" if use_good_articles else \"page_title\"\n",
    "out_dir = '../data_good/' if use_good_articles else '../data/'\n",
    "\n",
    "if is_debug: out_dir = './test/'\n",
    "\n",
    "df = pd.read_csv(orig_filename, sep='\\t')\n",
    "df.to_csv(filename, sep='\\t', columns=[title_column], index=False, header=False)"
   ]
  },
  {
   "cell_type": "code",
   "execution_count": 3,
   "metadata": {
    "scrolled": true
   },
   "outputs": [
    {
     "name": "stdout",
     "output_type": "stream",
     "text": [
      "Downloading... offset=0, limit=1\n",
      "0 test/The_Relapse\n",
      "Downloading text.json\n",
      "Downloaded 0 images, where 0 of them unavailable from commons\n",
      "CPU times: user 296 ms, sys: 21.3 ms, total: 317 ms\n",
      "Wall time: 1.56 s\n"
     ]
    }
   ],
   "source": [
    "%%time\n",
    "query_params = reader.QueryParams(\n",
    "    out_dir=out_dir,\n",
    "    invalidate_text_cache=True,\n",
    "    debug_info=True,\n",
    "    offset=0,\n",
    "    limit=1\n",
    ")\n",
    "\n",
    "reader.query(filename=filename, params=query_params)"
   ]
  },
  {
   "cell_type": "markdown",
   "metadata": {},
   "source": [
    "## Debug Utilities"
   ]
  },
  {
   "cell_type": "code",
   "execution_count": null,
   "metadata": {
    "scrolled": false
   },
   "outputs": [],
   "source": [
    "import json\n",
    "import pprint\n",
    "\n",
    "text_path = \"./test/The_Relapse/text.json\"\n",
    "pp = pprint.PrettyPrinter(indent=2)\n",
    "data = None\n",
    "with open(text_path) as json_file:\n",
    "    data = json.loads(json.load(json_file))\n",
    "\n",
    "pp.pprint(data)"
   ]
  },
  {
   "cell_type": "code",
   "execution_count": null,
   "metadata": {
    "scrolled": false
   },
   "outputs": [],
   "source": [
    "import json\n",
    "import pprint\n",
    "\n",
    "text_path = \"./test/The_Relapse/img/meta.json\"\n",
    "pp = pprint.PrettyPrinter(indent=2)\n",
    "data = None\n",
    "with open(text_path) as json_file:\n",
    "    data = json.loads(json.load(json_file))['img_meta']\n",
    "\n",
    "print_data = data\n",
    "for i in range(len(print_data)):\n",
    "    print_data[i] = {k:v for k,v in print_data[i].items() if k != \"features\"}\n",
    "pp.pprint(print_data)"
   ]
  },
  {
   "cell_type": "code",
   "execution_count": 6,
   "metadata": {},
   "outputs": [
    {
     "data": {
      "text/plain": [
       "'The Relapse'"
      ]
     },
     "execution_count": 6,
     "metadata": {},
     "output_type": "execute_result"
    }
   ],
   "source": [
    "from pathlib import Path\n",
    "import pywikibot\n",
    "from pywikibot import pagegenerators\n",
    "import json\n",
    "import mwparserfromhell as mwp\n",
    "import hashlib\n",
    "import urllib\n",
    "import re\n",
    "from urllib.request import urlretrieve\n",
    "from html.parser import HTMLParser\n",
    "from html.entities import name2codepoint\n",
    "from os import listdir, stat\n",
    "from os.path import isfile, join\n",
    "from dataclasses import dataclass\n",
    "from typing import Optional\n",
    "\n",
    "site = pywikibot.Site()    \n",
    "pages = list(pagegenerators.TextfilePageGenerator(filename=filename, site=site))\n",
    "p = pages[0]\n",
    "\n",
    "p.title()"
   ]
  }
 ],
 "metadata": {
  "kernelspec": {
   "display_name": "Python 3",
   "language": "python",
   "name": "python3"
  },
  "language_info": {
   "codemirror_mode": {
    "name": "ipython",
    "version": 3
   },
   "file_extension": ".py",
   "mimetype": "text/x-python",
   "name": "python",
   "nbconvert_exporter": "python",
   "pygments_lexer": "ipython3",
   "version": "3.7.4"
  }
 },
 "nbformat": 4,
 "nbformat_minor": 2
}
