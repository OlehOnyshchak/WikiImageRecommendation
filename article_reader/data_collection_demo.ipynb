{
 "cells": [
  {
   "cell_type": "markdown",
   "metadata": {},
   "source": [
    "## Usage of python script"
   ]
  },
  {
   "cell_type": "code",
   "execution_count": 1,
   "metadata": {},
   "outputs": [],
   "source": [
    "import reader\n",
    "import pandas as pd\n",
    "\n",
    "filename = 'featured_articles_list.tsv'\n",
    "df = pd.read_csv('featured_Articles.tsv', sep='\\t')\n",
    "df.to_csv(filename, sep='\\t', columns=[\"page_title\"], index=False, header=False)"
   ]
  },
  {
   "cell_type": "code",
   "execution_count": 2,
   "metadata": {
    "scrolled": false
   },
   "outputs": [
    {
     "name": "stdout",
     "output_type": "stream",
     "text": [
      "Downloading... offset=0, limit=1000\n",
      "0% completed\n"
     ]
    },
    {
     "name": "stderr",
     "output_type": "stream",
     "text": [
      "WARNING: File 'File:Wikinews-logo.svg' contains missing revisions\n",
      "WARNING: File 'File:Wikinews-logo.svg' contains missing revisions\n"
     ]
    },
    {
     "name": "stdout",
     "output_type": "stream",
     "text": [
      "1% completed\n"
     ]
    },
    {
     "name": "stderr",
     "output_type": "stream",
     "text": [
      "WARNING: File 'File:Wikinews-logo.svg' contains missing revisions\n",
      "WARNING: File 'File:Wikinews-logo.svg' contains missing revisions\n",
      "ERROR: An error occurred for uri https://en.wikipedia.org/w/api.php\n",
      "ERROR: Traceback (most recent call last):\n",
      "  File \"C:\\Users\\Fernando\\Anaconda3\\lib\\site-packages\\urllib3\\response.py\", line 425, in _error_catcher\n",
      "    yield\n",
      "  File \"C:\\Users\\Fernando\\Anaconda3\\lib\\site-packages\\urllib3\\response.py\", line 752, in read_chunked\n",
      "    self._update_chunk_length()\n",
      "  File \"C:\\Users\\Fernando\\Anaconda3\\lib\\site-packages\\urllib3\\response.py\", line 682, in _update_chunk_length\n",
      "    line = self._fp.fp.readline()\n",
      "  File \"C:\\Users\\Fernando\\Anaconda3\\lib\\socket.py\", line 586, in readinto\n",
      "    return self._sock.recv_into(b)\n",
      "  File \"C:\\Users\\Fernando\\Anaconda3\\lib\\ssl.py\", line 1009, in recv_into\n",
      "    return self.read(nbytes, buffer)\n",
      "  File \"C:\\Users\\Fernando\\Anaconda3\\lib\\ssl.py\", line 871, in read\n",
      "    return self._sslobj.read(len, buffer)\n",
      "  File \"C:\\Users\\Fernando\\Anaconda3\\lib\\ssl.py\", line 631, in read\n",
      "    v = self._sslobj.read(len, buffer)\n",
      "socket.timeout: The read operation timed out\n",
      "\n",
      "During handling of the above exception, another exception occurred:\n",
      "\n",
      "Traceback (most recent call last):\n",
      "  File \"C:\\Users\\Fernando\\Anaconda3\\lib\\site-packages\\requests\\models.py\", line 750, in generate\n",
      "    for chunk in self.raw.stream(chunk_size, decode_content=True):\n",
      "  File \"C:\\Users\\Fernando\\Anaconda3\\lib\\site-packages\\urllib3\\response.py\", line 560, in stream\n",
      "    for line in self.read_chunked(amt, decode_content=decode_content):\n",
      "  File \"C:\\Users\\Fernando\\Anaconda3\\lib\\site-packages\\urllib3\\response.py\", line 781, in read_chunked\n",
      "    self._original_response.close()\n",
      "  File \"C:\\Users\\Fernando\\Anaconda3\\lib\\contextlib.py\", line 99, in __exit__\n",
      "    self.gen.throw(type, value, traceback)\n",
      "  File \"C:\\Users\\Fernando\\Anaconda3\\lib\\site-packages\\urllib3\\response.py\", line 430, in _error_catcher\n",
      "    raise ReadTimeoutError(self._pool, None, \"Read timed out.\")\n",
      "urllib3.exceptions.ReadTimeoutError: HTTPSConnectionPool(host='en.wikipedia.org', port=443): Read timed out.\n",
      "\n",
      "During handling of the above exception, another exception occurred:\n",
      "\n",
      "Traceback (most recent call last):\n",
      "  File \"C:\\Users\\Fernando\\Anaconda3\\lib\\site-packages\\pywikibot\\data\\api.py\", line 1745, in _http_request\n",
      "    body=body, headers=headers)\n",
      "  File \"C:\\Users\\Fernando\\Anaconda3\\lib\\site-packages\\pywikibot\\tools\\__init__.py\", line 1744, in wrapper\n",
      "    return obj(*__args, **__kw)\n",
      "  File \"C:\\Users\\Fernando\\Anaconda3\\lib\\site-packages\\pywikibot\\comms\\http.py\", line 316, in request\n",
      "    r = fetch(baseuri, method, params, body, headers, **kwargs)\n",
      "  File \"C:\\Users\\Fernando\\Anaconda3\\lib\\site-packages\\pywikibot\\comms\\http.py\", line 520, in fetch\n",
      "    error_handling_callback(request)\n",
      "  File \"C:\\Users\\Fernando\\Anaconda3\\lib\\site-packages\\pywikibot\\comms\\http.py\", line 405, in error_handling_callback\n",
      "    raise request.data\n",
      "  File \"C:\\Users\\Fernando\\Anaconda3\\lib\\site-packages\\pywikibot\\comms\\http.py\", line 383, in _http_process\n",
      "    **http_request.kwargs)\n",
      "  File \"C:\\Users\\Fernando\\Anaconda3\\lib\\site-packages\\requests\\sessions.py\", line 533, in request\n",
      "    resp = self.send(prep, **send_kwargs)\n",
      "  File \"C:\\Users\\Fernando\\Anaconda3\\lib\\site-packages\\requests\\sessions.py\", line 686, in send\n",
      "    r.content\n",
      "  File \"C:\\Users\\Fernando\\Anaconda3\\lib\\site-packages\\requests\\models.py\", line 828, in content\n",
      "    self._content = b''.join(self.iter_content(CONTENT_CHUNK_SIZE)) or b''\n",
      "  File \"C:\\Users\\Fernando\\Anaconda3\\lib\\site-packages\\requests\\models.py\", line 757, in generate\n",
      "    raise ConnectionError(e)\n",
      "requests.exceptions.ConnectionError: HTTPSConnectionPool(host='en.wikipedia.org', port=443): Read timed out.\n",
      "\n",
      "WARNING: Waiting 5 seconds before retrying.\n"
     ]
    },
    {
     "name": "stdout",
     "output_type": "stream",
     "text": [
      "2% completed\n"
     ]
    },
    {
     "name": "stderr",
     "output_type": "stream",
     "text": [
      "WARNING: File 'File:Wikinews-logo.svg' contains missing revisions\n",
      "WARNING: File 'File:Wikinews-logo.svg' contains missing revisions\n",
      "WARNING: File 'File:Wikinews-logo.svg' contains missing revisions\n",
      "WARNING: File 'File:Distinguished Service Cross (UK) ribbon.png' contains missing revisions\n",
      "WARNING: File 'File:Wikinews-logo.svg' contains missing revisions\n"
     ]
    },
    {
     "name": "stdout",
     "output_type": "stream",
     "text": [
      "3% completed\n"
     ]
    },
    {
     "name": "stderr",
     "output_type": "stream",
     "text": [
      "WARNING: File 'File:Distinguished Service Cross (UK) ribbon.png' contains missing revisions\n",
      "WARNING: File 'File:Distinguished Service Cross (UK) ribbon.png' contains missing revisions\n",
      "WARNING: File 'File:Wikinews-logo.svg' contains missing revisions\n"
     ]
    },
    {
     "name": "stdout",
     "output_type": "stream",
     "text": [
      "4% completed\n"
     ]
    },
    {
     "name": "stderr",
     "output_type": "stream",
     "text": [
      "WARNING: File 'File:Wikinews-logo.svg' contains missing revisions\n",
      "WARNING: File 'File:Wikinews-logo.svg' contains missing revisions\n",
      "WARNING: File 'File:Europe orthographic Caucasus Urals boundary.svg' contains missing revisions\n"
     ]
    },
    {
     "name": "stdout",
     "output_type": "stream",
     "text": [
      "5% completed\n"
     ]
    },
    {
     "name": "stderr",
     "output_type": "stream",
     "text": [
      "WARNING: File 'File:Europe orthographic Caucasus Urals boundary.svg' contains missing revisions\n",
      "WARNING: File 'File:Wikinews-logo.svg' contains missing revisions\n",
      "WARNING: File 'File:Wikinews-logo.svg' contains missing revisions\n",
      "WARNING: File 'File:Wikinews-logo.svg' contains missing revisions\n"
     ]
    },
    {
     "name": "stdout",
     "output_type": "stream",
     "text": [
      "6% completed\n"
     ]
    },
    {
     "name": "stderr",
     "output_type": "stream",
     "text": [
      "WARNING: File 'File:Wikinews-logo.svg' contains missing revisions\n",
      "WARNING: File 'File:Wikinews-logo.svg' contains missing revisions\n",
      "WARNING: File 'File:Wikinews-logo.svg' contains missing revisions\n",
      "WARNING: File 'File:Wikinews-logo.svg' contains missing revisions\n"
     ]
    },
    {
     "name": "stdout",
     "output_type": "stream",
     "text": [
      "7% completed\n"
     ]
    },
    {
     "name": "stderr",
     "output_type": "stream",
     "text": [
      "WARNING: File 'File:Europe orthographic Caucasus Urals boundary.svg' contains missing revisions\n",
      "WARNING: File 'File:Europe orthographic Caucasus Urals boundary.svg' contains missing revisions\n",
      "WARNING: File 'File:Wikinews-logo.svg' contains missing revisions\n",
      "WARNING: File 'File:Wikinews-logo.svg' contains missing revisions\n",
      "WARNING: File 'File:Wikinews-logo.svg' contains missing revisions\n"
     ]
    },
    {
     "name": "stdout",
     "output_type": "stream",
     "text": [
      "8% completed\n"
     ]
    },
    {
     "name": "stderr",
     "output_type": "stream",
     "text": [
      "WARNING: File 'File:Wikinews-logo.svg' contains missing revisions\n",
      "WARNING: File 'File:Wikinews-logo.svg' contains missing revisions\n",
      "WARNING: File 'File:Wikinews-logo.svg' contains missing revisions\n"
     ]
    },
    {
     "name": "stdout",
     "output_type": "stream",
     "text": [
      "9% completed\n"
     ]
    },
    {
     "name": "stderr",
     "output_type": "stream",
     "text": [
      "WARNING: File 'File:Wikinews-logo.svg' contains missing revisions\n"
     ]
    },
    {
     "name": "stdout",
     "output_type": "stream",
     "text": [
      "10% completed\n"
     ]
    },
    {
     "name": "stderr",
     "output_type": "stream",
     "text": [
      "WARNING: File 'File:Wikinews-logo.svg' contains missing revisions\n",
      "WARNING: File 'File:Wikinews-logo.svg' contains missing revisions\n"
     ]
    },
    {
     "name": "stdout",
     "output_type": "stream",
     "text": [
      "11% completed\n"
     ]
    },
    {
     "name": "stderr",
     "output_type": "stream",
     "text": [
      "WARNING: File 'File:Wikinews-logo.svg' contains missing revisions\n",
      "WARNING: File 'File:Wikinews-logo.svg' contains missing revisions\n"
     ]
    },
    {
     "name": "stdout",
     "output_type": "stream",
     "text": [
      "12% completed\n",
      "13% completed\n",
      "14% completed\n"
     ]
    },
    {
     "name": "stderr",
     "output_type": "stream",
     "text": [
      "WARNING: File 'File:Wikinews-logo.svg' contains missing revisions\n"
     ]
    },
    {
     "name": "stdout",
     "output_type": "stream",
     "text": [
      "15% completed\n"
     ]
    },
    {
     "name": "stderr",
     "output_type": "stream",
     "text": [
      "WARNING: File 'File:Sirfrancisdashwood.jpg' contains missing revisions\n"
     ]
    },
    {
     "name": "stdout",
     "output_type": "stream",
     "text": [
      "16% completed\n"
     ]
    },
    {
     "name": "stderr",
     "output_type": "stream",
     "text": [
      "WARNING: File 'File:Wikinews-logo.svg' contains missing revisions\n",
      "WARNING: File 'File:Wikinews-logo.svg' contains missing revisions\n",
      "WARNING: File 'File:Wikinews-logo.svg' contains missing revisions\n"
     ]
    },
    {
     "name": "stdout",
     "output_type": "stream",
     "text": [
      "17% completed\n"
     ]
    },
    {
     "name": "stderr",
     "output_type": "stream",
     "text": [
      "WARNING: File 'File:Wikinews-logo.svg' contains missing revisions\n",
      "WARNING: File 'File:Wikinews-logo.svg' contains missing revisions\n",
      "WARNING: File 'File:Flag of Tonga.svg' contains missing revisions\n"
     ]
    },
    {
     "name": "stdout",
     "output_type": "stream",
     "text": [
      "Downloaded 23 images, where 23 of them unavailable from commons\n",
      "Wall time: 10min 45s\n"
     ]
    }
   ],
   "source": [
    "%%time\n",
    "reader.query(filename=filename, debug_info=True, offset=0, limit=1000)"
   ]
  }
 ],
 "metadata": {
  "kernelspec": {
   "display_name": "Python 3",
   "language": "python",
   "name": "python3"
  },
  "language_info": {
   "codemirror_mode": {
    "name": "ipython",
    "version": 3
   },
   "file_extension": ".py",
   "mimetype": "text/x-python",
   "name": "python",
   "nbconvert_exporter": "python",
   "pygments_lexer": "ipython3",
   "version": "3.6.5"
  }
 },
 "nbformat": 4,
 "nbformat_minor": 2
}
