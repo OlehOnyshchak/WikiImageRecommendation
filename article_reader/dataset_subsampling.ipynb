{
 "cells": [
  {
   "cell_type": "code",
   "execution_count": 1,
   "metadata": {},
   "outputs": [],
   "source": [
    "import os\n",
    "from pathlib import Path\n",
    "\n",
    "src_dataset_path = Path('../data/')\n",
    "dest_dataset_path = Path('../data_subset/data/')\n",
    "\n",
    "def get_immediate_subdirectories(a_dir):\n",
    "    return [name for name in os.listdir(a_dir)\n",
    "            if os.path.isdir(os.path.join(a_dir, name))]"
   ]
  },
  {
   "cell_type": "code",
   "execution_count": 2,
   "metadata": {
    "scrolled": true
   },
   "outputs": [],
   "source": [
    "import random\n",
    "import shutil\n",
    "\n",
    "random.seed(1234)\n",
    "pages = get_immediate_subdirectories(src_dataset_path)\n",
    "subset = pages  # random.sample(pages, 500)\n",
    "\n",
    "for page_folder in subset:\n",
    "    shutil.copytree(src_dataset_path/page_folder,\n",
    "                    dest_dataset_path/page_folder,\n",
    "                    ignore=shutil.ignore_patterns('*.jpg', '*.ORIGINAL'))"
   ]
  },
  {
   "cell_type": "code",
   "execution_count": null,
   "metadata": {},
   "outputs": [],
   "source": []
  }
 ],
 "metadata": {
  "kernelspec": {
   "display_name": "Python 3",
   "language": "python",
   "name": "python3"
  },
  "language_info": {
   "codemirror_mode": {
    "name": "ipython",
    "version": 3
   },
   "file_extension": ".py",
   "mimetype": "text/x-python",
   "name": "python",
   "nbconvert_exporter": "python",
   "pygments_lexer": "ipython3",
   "version": "3.7.4"
  }
 },
 "nbformat": 4,
 "nbformat_minor": 2
}
